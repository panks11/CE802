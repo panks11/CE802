{
 "cells": [
  {
   "cell_type": "code",
   "execution_count": 22,
   "metadata": {},
   "outputs": [],
   "source": [
    "import pandas as pd\n",
    "import numpy as np\n",
    "\n",
    "from sklearn.pipeline import Pipeline\n",
    "from sklearn.impute import SimpleImputer\n",
    "from sklearn.preprocessing import StandardScaler\n",
    "from sklearn.model_selection import GridSearchCV, cross_val_score\n",
    "from sklearn.metrics import make_scorer, f1_score, confusion_matrix, classification_report\n",
    "\n",
    "import matplotlib.pyplot as plt\n",
    "import seaborn as sns\n",
    "\n",
    "import warnings\n",
    "warnings.filterwarnings('ignore')"
   ]
  },
  {
   "cell_type": "code",
   "execution_count": 23,
   "metadata": {},
   "outputs": [
    {
     "data": {
      "text/html": [
       "<div>\n",
       "<style scoped>\n",
       "    .dataframe tbody tr th:only-of-type {\n",
       "        vertical-align: middle;\n",
       "    }\n",
       "\n",
       "    .dataframe tbody tr th {\n",
       "        vertical-align: top;\n",
       "    }\n",
       "\n",
       "    .dataframe thead th {\n",
       "        text-align: right;\n",
       "    }\n",
       "</style>\n",
       "<table border=\"1\" class=\"dataframe\">\n",
       "  <thead>\n",
       "    <tr style=\"text-align: right;\">\n",
       "      <th></th>\n",
       "      <th>F1</th>\n",
       "      <th>F2</th>\n",
       "      <th>F3</th>\n",
       "      <th>F4</th>\n",
       "      <th>F5</th>\n",
       "      <th>F6</th>\n",
       "      <th>F7</th>\n",
       "      <th>F8</th>\n",
       "      <th>F9</th>\n",
       "      <th>F10</th>\n",
       "      <th>F11</th>\n",
       "      <th>F12</th>\n",
       "      <th>F13</th>\n",
       "      <th>F14</th>\n",
       "      <th>F15</th>\n",
       "      <th>Class</th>\n",
       "    </tr>\n",
       "  </thead>\n",
       "  <tbody>\n",
       "    <tr>\n",
       "      <th>0</th>\n",
       "      <td>20</td>\n",
       "      <td>-21.42</td>\n",
       "      <td>13.1</td>\n",
       "      <td>464.04</td>\n",
       "      <td>-6.10</td>\n",
       "      <td>-4.50</td>\n",
       "      <td>-18.66</td>\n",
       "      <td>27.54</td>\n",
       "      <td>20.1</td>\n",
       "      <td>-7.08</td>\n",
       "      <td>-16.32</td>\n",
       "      <td>365</td>\n",
       "      <td>0.47</td>\n",
       "      <td>3.40</td>\n",
       "      <td>-3.90</td>\n",
       "      <td>False</td>\n",
       "    </tr>\n",
       "    <tr>\n",
       "      <th>1</th>\n",
       "      <td>20</td>\n",
       "      <td>-27.12</td>\n",
       "      <td>13.5</td>\n",
       "      <td>299.04</td>\n",
       "      <td>-6.18</td>\n",
       "      <td>-4.91</td>\n",
       "      <td>-18.66</td>\n",
       "      <td>27.44</td>\n",
       "      <td>18.2</td>\n",
       "      <td>-12.84</td>\n",
       "      <td>-11.07</td>\n",
       "      <td>205</td>\n",
       "      <td>-129.53</td>\n",
       "      <td>7.12</td>\n",
       "      <td>NaN</td>\n",
       "      <td>False</td>\n",
       "    </tr>\n",
       "    <tr>\n",
       "      <th>2</th>\n",
       "      <td>20</td>\n",
       "      <td>-33.87</td>\n",
       "      <td>10.5</td>\n",
       "      <td>854.04</td>\n",
       "      <td>-9.32</td>\n",
       "      <td>-7.16</td>\n",
       "      <td>-18.66</td>\n",
       "      <td>25.44</td>\n",
       "      <td>11.9</td>\n",
       "      <td>-5.46</td>\n",
       "      <td>-11.01</td>\n",
       "      <td>330</td>\n",
       "      <td>-44.53</td>\n",
       "      <td>4.62</td>\n",
       "      <td>-3.84</td>\n",
       "      <td>False</td>\n",
       "    </tr>\n",
       "    <tr>\n",
       "      <th>3</th>\n",
       "      <td>20</td>\n",
       "      <td>-25.38</td>\n",
       "      <td>19.4</td>\n",
       "      <td>809.04</td>\n",
       "      <td>-12.69</td>\n",
       "      <td>-4.95</td>\n",
       "      <td>-23.66</td>\n",
       "      <td>25.54</td>\n",
       "      <td>19.6</td>\n",
       "      <td>-11.31</td>\n",
       "      <td>-7.53</td>\n",
       "      <td>215</td>\n",
       "      <td>-54.53</td>\n",
       "      <td>2.26</td>\n",
       "      <td>NaN</td>\n",
       "      <td>False</td>\n",
       "    </tr>\n",
       "    <tr>\n",
       "      <th>4</th>\n",
       "      <td>20</td>\n",
       "      <td>-23.22</td>\n",
       "      <td>16.0</td>\n",
       "      <td>359.04</td>\n",
       "      <td>-7.70</td>\n",
       "      <td>-4.36</td>\n",
       "      <td>-8.66</td>\n",
       "      <td>26.64</td>\n",
       "      <td>25.8</td>\n",
       "      <td>-12.69</td>\n",
       "      <td>-10.20</td>\n",
       "      <td>85</td>\n",
       "      <td>-134.53</td>\n",
       "      <td>-0.20</td>\n",
       "      <td>-7.76</td>\n",
       "      <td>True</td>\n",
       "    </tr>\n",
       "  </tbody>\n",
       "</table>\n",
       "</div>"
      ],
      "text/plain": [
       "   F1     F2    F3      F4     F5    F6     F7     F8    F9    F10    F11  \\\n",
       "0  20 -21.42  13.1  464.04  -6.10 -4.50 -18.66  27.54  20.1  -7.08 -16.32   \n",
       "1  20 -27.12  13.5  299.04  -6.18 -4.91 -18.66  27.44  18.2 -12.84 -11.07   \n",
       "2  20 -33.87  10.5  854.04  -9.32 -7.16 -18.66  25.44  11.9  -5.46 -11.01   \n",
       "3  20 -25.38  19.4  809.04 -12.69 -4.95 -23.66  25.54  19.6 -11.31  -7.53   \n",
       "4  20 -23.22  16.0  359.04  -7.70 -4.36  -8.66  26.64  25.8 -12.69 -10.20   \n",
       "\n",
       "   F12     F13   F14   F15  Class  \n",
       "0  365    0.47  3.40 -3.90  False  \n",
       "1  205 -129.53  7.12   NaN  False  \n",
       "2  330  -44.53  4.62 -3.84  False  \n",
       "3  215  -54.53  2.26   NaN  False  \n",
       "4   85 -134.53 -0.20 -7.76   True  "
      ]
     },
     "execution_count": 23,
     "metadata": {},
     "output_type": "execute_result"
    }
   ],
   "source": [
    "# Reading the file csv into dataframe\n",
    "\n",
    "data = pd.read_csv('CE802_P2_Data/CE802_P2_Data.csv')\n",
    "\n",
    "# Verify the data load \n",
    "data.head()"
   ]
  },
  {
   "cell_type": "code",
   "execution_count": 3,
   "metadata": {},
   "outputs": [
    {
     "name": "stdout",
     "output_type": "stream",
     "text": [
      "<class 'pandas.core.frame.DataFrame'>\n",
      "RangeIndex: 1500 entries, 0 to 1499\n",
      "Data columns (total 16 columns):\n",
      " #   Column  Non-Null Count  Dtype  \n",
      "---  ------  --------------  -----  \n",
      " 0   F1      1500 non-null   int64  \n",
      " 1   F2      1500 non-null   float64\n",
      " 2   F3      1500 non-null   float64\n",
      " 3   F4      1500 non-null   float64\n",
      " 4   F5      1500 non-null   float64\n",
      " 5   F6      1500 non-null   float64\n",
      " 6   F7      1500 non-null   float64\n",
      " 7   F8      1500 non-null   float64\n",
      " 8   F9      1500 non-null   float64\n",
      " 9   F10     1500 non-null   float64\n",
      " 10  F11     1500 non-null   float64\n",
      " 11  F12     1500 non-null   int64  \n",
      " 12  F13     1500 non-null   float64\n",
      " 13  F14     1500 non-null   float64\n",
      " 14  F15     750 non-null    float64\n",
      " 15  Class   1500 non-null   bool   \n",
      "dtypes: bool(1), float64(13), int64(2)\n",
      "memory usage: 177.4 KB\n"
     ]
    }
   ],
   "source": [
    "# retrieve the information for feature names and data rows\n",
    "# There are 15 features and 1 Target Variable, all features are numerical as indicated by dtype and Target variable is boolean,\n",
    "# The class variable indicate the task is a Classification problem, also Supervised as we are provided with labelled data for the learning task\n",
    "# There are 1500 data samples \n",
    "data.info()"
   ]
  },
  {
   "cell_type": "code",
   "execution_count": 4,
   "metadata": {},
   "outputs": [
    {
     "name": "stdout",
     "output_type": "stream",
     "text": [
      "Non Diabetic Data :809 Rows, 53.93%\n",
      "Diabetic Data : 691 Rows, 46.07%\n"
     ]
    }
   ],
   "source": [
    "# We will now check the numper of samples beloning to each category.\n",
    "# This is important to verify if the dataset is balanced or unbalanced\n",
    "# the value TRUE in the data means :Yes, they suffered from diabetes\n",
    "\n",
    "\n",
    "print('Non Diabetic Data :{} Rows, {:.2f}%'.format(data.Class.value_counts()[0], data.Class.value_counts()[0]/len(data)*100))\n",
    "print('Diabetic Data : {} Rows, {:.2f}%'.format(data.Class.value_counts()[1], data.Class.value_counts()[1]/len(data)*100))\n",
    "\n",
    "# The data is not highly imbalanced, the data in each class helps in determining the evaluation metrics, we do not prefer accuracy for highly imbalanced datasets\n",
    "# For our case , i have chosen to evaluate our models using Classification report capturing Accuracy, Precision, Recall and F1-Score"
   ]
  },
  {
   "cell_type": "code",
   "execution_count": 38,
   "metadata": {},
   "outputs": [
    {
     "data": {
      "image/png": "[encoded data removed]",
      "text/plain": [
       "<Figure size 842.4x595.44 with 1 Axes>"
      ]
     },
     "metadata": {
      "needs_background": "light"
     },
     "output_type": "display_data"
    }
   ],
   "source": [
    "# To check outliers \n",
    "# We can observe outliers only in the F13\n",
    "\n",
    "a_dims = (11.7, 8.27)\n",
    "fig, ax = plt.subplots(figsize = a_dims)\n",
    "g = sns.boxplot(data=data,linewidth=2.5,ax=ax)\n",
    "g.set_yscale(\"log\")"
   ]
  },
  {
   "cell_type": "code",
   "execution_count": 5,
   "metadata": {},
   "outputs": [
    {
     "name": "stdout",
     "output_type": "stream",
     "text": [
      "(1200, 15) (1200,) (300, 15) (300,)\n"
     ]
    }
   ],
   "source": [
    "\n",
    "# Created a function for stratified split of Train and Test Data in 80:20 ratio on 'Class' \n",
    "from sklearn.model_selection import train_test_split\n",
    "\n",
    "def split_train_test(df):\n",
    "    '''\n",
    "    function for stratified split of Train and Test Data in 80:20 ratio on 'Class'\n",
    "    '''\n",
    "    train_X = df.drop(columns=['Class'])\n",
    "    train_Y = df['Class']\n",
    "    train_x, test_x, train_y, test_y = train_test_split(train_X, train_Y, test_size=0.2, random_state=0, shuffle=True, stratify= df['Class'])\n",
    "\n",
    "    # shape of train and test splits\n",
    "    print(train_x.shape, train_y.shape, test_x.shape, test_y.shape)\n",
    "    return train_x, train_y, test_x, test_y\n",
    "\n",
    "\n",
    "train_x, train_y, test_x, test_y = split_train_test(data)\n",
    "train_x['Class'] = train_y\n",
    "test_x['Class'] = test_y"
   ]
  },
  {
   "cell_type": "code",
   "execution_count": 6,
   "metadata": {},
   "outputs": [
    {
     "name": "stdout",
     "output_type": "stream",
     "text": [
      "(1200, 15) (1200,)\n",
      "(300, 15) (300,)\n"
     ]
    }
   ],
   "source": [
    "def df_to_array(df):\n",
    "    \n",
    "    '''\n",
    "    function to load the dataframe into data and target arrays\n",
    "    Encode the CLass variable with 0 and 1 for False and True values respectively\n",
    "    '''\n",
    "    X = df.loc[:, df.columns != 'Class'].to_numpy()\n",
    "    y = df.loc[:, 'Class'].to_numpy()\n",
    "    y = np.where(y == False, 0 ,1)\n",
    "    print(X.shape, y.shape)\n",
    "    return X , y\n",
    "\n",
    "data_arr, target_arr = df_to_array(train_x)\n",
    "data_arr_test, target_arr_test = df_to_array(test_x)\n"
   ]
  },
  {
   "cell_type": "markdown",
   "metadata": {},
   "source": [
    "Visualize the Features"
   ]
  },
  {
   "cell_type": "code",
   "execution_count": 7,
   "metadata": {},
   "outputs": [
    {
     "data": {
      "image/png": "[encoded data removed]",
      "text/plain": [
       "<Figure size 576x432 with 9 Axes>"
      ]
     },
     "metadata": {
      "needs_background": "light"
     },
     "output_type": "display_data"
    },
    {
     "data": {
      "image/png": "[encoded data removed]",
      "text/plain": [
       "<Figure size 576x432 with 6 Axes>"
      ]
     },
     "metadata": {
      "needs_background": "light"
     },
     "output_type": "display_data"
    }
   ],
   "source": [
    "# The feature values are not in specific range, since few models work better with normalized data, we are checking if the data features requires the normalization\n",
    "# We would apply standardization on our Features later in the notebook\n",
    "\n",
    "def plot_features(p_d):\n",
    "    ''' \n",
    "    Function to plot scatterplot of Target Variable and Features\n",
    "    '''\n",
    "\n",
    "    plt.figure(figsize=(8,6))\n",
    "    col_num = p_d.shape[1]\n",
    "    last = col_num - 9\n",
    "    for i in range(9):\n",
    "        plt.subplot(3, 3, i+1)\n",
    "        plt.scatter(target_arr,p_d[:,i])\n",
    "        plt.xticks([0, 1])\n",
    "        plt.title(\"F\"+str(i+1))\n",
    "        \n",
    "    plt.figure(figsize=(8,6))\n",
    "    for i in range(last):\n",
    "        plt.subplot(3, 3, i+1)\n",
    "        plt.scatter(target_arr,p_d[:,i+9])\n",
    "        plt.xticks([0, 1])\n",
    "        plt.title(\"F\"+str(i+10))\n",
    "    \n",
    "plot_features(data_arr)"
   ]
  },
  {
   "cell_type": "markdown",
   "metadata": {},
   "source": [
    "Missing Values"
   ]
  },
  {
   "cell_type": "code",
   "execution_count": 8,
   "metadata": {},
   "outputs": [
    {
     "name": "stdout",
     "output_type": "stream",
     "text": [
      "[  0   0   0   0   0   0   0   0   0   0   0   0   0   0 593]\n",
      "Columns (array([14], dtype=int64),)\n"
     ]
    }
   ],
   "source": [
    "# As from below check we can see F15 has 750 missing values\n",
    "print((np.sum(np.isnan(data_arr), 0)))\n",
    "print('Columns',np.where(np.sum(np.isnan(data_arr),0) != 0))"
   ]
  },
  {
   "cell_type": "markdown",
   "metadata": {},
   "source": [
    "Create a function to return the data array with or without F15"
   ]
  },
  {
   "cell_type": "code",
   "execution_count": 9,
   "metadata": {},
   "outputs": [],
   "source": [
    "# To Hanldle the data with missing values \n",
    "# we will create a function to return the data with or without F15 feature\n",
    "\n",
    "def data_with_f15(df, val = True):\n",
    "    '''\n",
    "    val : True indicates the numpy array conatins F15 attribute\n",
    "    '''\n",
    "    if val:\n",
    "        return df.loc[:, ~df.columns.isin(['Class'])].to_numpy()\n",
    "    return df.loc[:, ~df.columns.isin(['Class', 'F15'])].to_numpy()\n"
   ]
  },
  {
   "cell_type": "markdown",
   "metadata": {},
   "source": [
    "Create the Pipeline for data processing before sending the parameters to Models"
   ]
  },
  {
   "cell_type": "code",
   "execution_count": 10,
   "metadata": {},
   "outputs": [],
   "source": [
    "# create the scikit pipeline to standardize the features\n",
    "# Pipeline1 (num_pipeline) : Scale the numerical parameters of data without F15 feature, in our case all features are numerical\n",
    "# Pipeline2 (num_f15_pipeline_median) : Impute the missing values of F15 feature with the median and then scale them\n",
    "# Pipeline3 (num_f15_pipeline_knn) : Impute the missing values of F15 feature with the knn and then scale them\n",
    "# Use above Pipeliness to Fit and Transform the Training data\n",
    "# Use above Pipeliness to Transform the Test data \n",
    "\n",
    "from sklearn.impute import KNNImputer\n",
    "knnimputer = KNNImputer(n_neighbors=3, weights=\"uniform\")\n",
    "\n",
    "num_pipeline = Pipeline([('scale', StandardScaler())])\n",
    "\n",
    "num_f15_pipeline_median = Pipeline([('imputer', SimpleImputer(strategy=\"median\")),('scale', StandardScaler())])\n",
    "\n",
    "num_f15_pipeline_knn = Pipeline([('imputer', knnimputer), ('scale', StandardScaler())])\n",
    "\n",
    "data_arr_scaled = num_pipeline.fit_transform(data_with_f15(train_x, False))\n",
    "data_arr_scaled_with_f15_median = num_f15_pipeline_median.fit_transform(data_with_f15(train_x, True))\n",
    "data_arr_scaled_with_f15_knn = num_f15_pipeline_knn.fit_transform(data_with_f15(train_x, True))\n",
    "\n",
    "data_arr_scaled_test = num_pipeline.transform(data_with_f15(test_x, False))\n",
    "data_arr_scaled_with_f15_median_test = num_f15_pipeline_median.transform(data_with_f15(test_x, True))\n",
    "data_arr_scaled_with_f15_knn_test = num_f15_pipeline_knn.transform(data_with_f15(test_x, True))"
   ]
  },
  {
   "cell_type": "code",
   "execution_count": 11,
   "metadata": {},
   "outputs": [
    {
     "data": {
      "image/png": "[encoded data removed]",
      "text/plain": [
       "<Figure size 576x432 with 9 Axes>"
      ]
     },
     "metadata": {
      "needs_background": "light"
     },
     "output_type": "display_data"
    },
    {
     "data": {
      "image/png": "[encoded data removed]",
      "text/plain": [
       "<Figure size 576x432 with 6 Axes>"
      ]
     },
     "metadata": {
      "needs_background": "light"
     },
     "output_type": "display_data"
    }
   ],
   "source": [
    "# Verify the scaled vectors\n",
    "plot_features(data_arr_scaled_with_f15_median)"
   ]
  },
  {
   "cell_type": "markdown",
   "metadata": {},
   "source": [
    "Train Models"
   ]
  },
  {
   "cell_type": "code",
   "execution_count": 12,
   "metadata": {},
   "outputs": [],
   "source": [
    "# In the below code, we are\n",
    "# Training using a model object\n",
    "# Choosing the best parameters for the model using Grid Search CV\n",
    "# Performing an outer cross validation loop and nested parameter tuning \n",
    "\n",
    "def fit_model_with_best_parameters(model, params, X, y):\n",
    "    '''\n",
    "    Function to Choose the best parameters for the model using Grid Search CV and perform Cross Validation\n",
    "    '''\n",
    "    grid_search_cv = GridSearchCV(model, params)\n",
    "    grid_search_cv.fit(X,y)\n",
    "    scores = cross_val_score(grid_search_cv, X, y, cv=10, scoring=make_scorer(f1_score))  # cross-validation\n",
    "    # print('CV List of F1 scores :', scores)\n",
    "    print('Mean F1 Score :',scores.mean())\n",
    "    print(grid_search_cv.best_estimator_)\n",
    "    return grid_search_cv.best_estimator_, grid_search_cv.best_params_"
   ]
  },
  {
   "cell_type": "code",
   "execution_count": 94,
   "metadata": {},
   "outputs": [],
   "source": [
    "# function to plot confusion Matrix\n",
    "\n",
    "def plot_confusion_matrix(cm, classes, title='Confusion matrix'):\n",
    "    \"\"\"\n",
    "    This function prints and plots the confusion matrix.\n",
    "    \"\"\"\n",
    "   \n",
    "    ax = sns.heatmap(cm, annot=True, fmt = 'd' ,cmap='Blues')\n",
    "\n",
    "    ax.set_xlabel('\\nPredicted Values')\n",
    "    ax.set_ylabel('Actual Values ');\n",
    "\n",
    "    ## Ticket labels - List must be in alphabetical order\n",
    "    ax.xaxis.set_ticklabels(classes)\n",
    "    ax.yaxis.set_ticklabels(classes)\n",
    "\n",
    "    ## Display the visualization of the Confusion Matrix.\n",
    "    plt.show()\n",
    "    \n",
    "# function to report accuracies for oour experiments    \n",
    "def report(model, params, train = True, plot_cm = False, create_cls_report = False, X = '', y = '',grid_search = True):\n",
    "    '''\n",
    "    Function report the F1 score, Confusion Matrix, Classification Report for a given model \n",
    "    '''\n",
    "    if not train:\n",
    "        y_pred = model.predict(X)\n",
    "        print(15*'*')\n",
    "        print(\"Confusion Matrix\" )\n",
    "        print(15*'*')\n",
    "        cm = confusion_matrix(y, y_pred)\n",
    "        plot_confusion_matrix(cm,['Non Diabetic','Diabetic'])\n",
    "        \n",
    "        print(15*'*')\n",
    "        print(\"Classification Report \" )\n",
    "        print(15*'*')\n",
    "        print(classification_report(y, y_pred))\n",
    "        return True\n",
    "        \n",
    "    if train:\n",
    "        print(15*'*')\n",
    "        print(\"TRAINING\" )\n",
    "        print(15*'*')\n",
    "\n",
    "        print(15*'*')\n",
    "        print(\"Model tuned with data not containing F15\" )\n",
    "        print(15*'*')\n",
    "        # model learning without F15\n",
    "        if grid_search:\n",
    "            best, best_params = fit_model_with_best_parameters(model, params, data_arr_scaled, target_arr)\n",
    "        else:\n",
    "            best = model\n",
    "            scores = cross_val_score(best, data_arr_scaled, target_arr, cv=10, scoring=make_scorer(f1_score))\n",
    "            print(\"Cross Validation Score:\", scores.mean())\n",
    "            best.fit(data_arr_scaled, target_arr)\n",
    "            y_pred = best.predict(data_arr_scaled_test)\n",
    "            print(\"Test F1 Score: \",f1_score(target_arr_test, y_pred))\n",
    "\n",
    "        print(15*'*')\n",
    "        print(\"Model tuned with data containing F15 imputed with Median\" )\n",
    "        print(15*'*')\n",
    "        # model learning with F15 missing values with Median\n",
    "        if grid_search:\n",
    "            best_wf15_median, best_params_wf15_median = fit_model_with_best_parameters(model, params, data_arr_scaled_with_f15_median, target_arr)\n",
    "        else:\n",
    "            best_wf15_median = model\n",
    "            best_wf15_median.fit(data_arr_scaled_with_f15_median, target_arr)\n",
    "            y_pred = best_wf15_median.predict(data_arr_scaled_with_f15_median_test)\n",
    "            scores = cross_val_score(best_wf15_median, data_arr_scaled_with_f15_median, target_arr, cv=10, scoring=make_scorer(f1_score))\n",
    "            print(\"Cross Validation Score:\", scores.mean())\n",
    "            print(\"Test F1 Score: \",f1_score(target_arr_test, y_pred))\n",
    "\n",
    "        print(15*'*')\n",
    "        print(\"Model tuned with data containing F15 imputed with knn\" )\n",
    "        print(15*'*')\n",
    "        if grid_search:\n",
    "            best_wf15_knn, best_params_wf15_knn = fit_model_with_best_parameters(model, params, data_arr_scaled_with_f15_knn, target_arr)\n",
    "        else:\n",
    "            best_wf15_knn = model\n",
    "            scores = cross_val_score(best_wf15_knn, data_arr_scaled_with_f15_knn, target_arr, cv=10, scoring=make_scorer(f1_score))\n",
    "            print(\"Cross Validation Score:\", scores.mean())\n",
    "            best_wf15_knn.fit(data_arr_scaled_with_f15_knn, target_arr)\n",
    "            y_pred = best_wf15_knn.predict(data_arr_scaled_with_f15_knn_test)\n",
    "            print(\"Test F1 Score: \",f1_score(target_arr_test, y_pred))\n",
    "\n",
    "    if grid_search:\n",
    "        print(15*'*')\n",
    "        print(\"VALIDATE\" )\n",
    "        print(15*'*')\n",
    "\n",
    "        print(15*'*')\n",
    "        print(\"F1 Score for data not containing F15\" )\n",
    "        print(15*'*')\n",
    "\n",
    "        y_pred = best.predict(data_arr_scaled_test)\n",
    "        print(f1_score(target_arr_test, y_pred))\n",
    "        \n",
    "        if plot_cm:\n",
    "            print(15*'*')\n",
    "            print(\"Confusion Matrix for data not containing F15\" )\n",
    "            print(15*'*')\n",
    "            cm = confusion_matrix(target_arr_test, y_pred)\n",
    "            plot_confusion_matrix(cm,['Non Diabetic','Diabetic'])\n",
    "            \n",
    "        if create_cls_report:\n",
    "            print(15*'*')\n",
    "            print(\"Classification Report for data not containing F15\" )\n",
    "            print(15*'*')\n",
    "            print(classification_report(target_arr_test, y_pred))\n",
    "\n",
    "        print(15*'*')\n",
    "        print(\"F1 Score for data containing F15 imputed with Median\" )\n",
    "        print(15*'*')\n",
    "        \n",
    "\n",
    "        y_pred = best_wf15_median.predict(data_arr_scaled_with_f15_median_test)\n",
    "        print(f1_score(target_arr_test, y_pred))\n",
    "        \n",
    "        if plot_cm:\n",
    "            print(15*'*')\n",
    "            print(\"Confusion Matrix for data containing F15 imputed with Median\" )\n",
    "            print(15*'*')\n",
    "            cm = confusion_matrix(target_arr_test, y_pred)\n",
    "            plot_confusion_matrix(cm,['Non Diabetic','Diabetic'])\n",
    "            \n",
    "        if create_cls_report:\n",
    "            print(15*'*')\n",
    "            print(\"Classification Report for data containing F15 imputed with Median\" )\n",
    "            print(15*'*')\n",
    "            print(classification_report(target_arr_test, y_pred))\n",
    "\n",
    "        print(15*'*')\n",
    "        print(\"F1 Score for data containing F15 imputed with knn\" )\n",
    "        print(15*'*')\n",
    "\n",
    "        y_pred = best_wf15_knn.predict(data_arr_scaled_with_f15_knn_test)\n",
    "        print(f1_score(target_arr_test, y_pred))\n",
    "        \n",
    "        if plot_cm:\n",
    "            print(15*'*')\n",
    "            print(\"Confusion Matrix for data containing F15 imputed with knn\" )\n",
    "            print(15*'*')\n",
    "            cm = confusion_matrix(target_arr_test, y_pred)\n",
    "            plot_confusion_matrix(cm,['Non Diabetic','Diabetic'])\n",
    "            \n",
    "        if create_cls_report:\n",
    "            print(15*'*')\n",
    "            print(\"Classification Report for data containing F15 imputed with knn\" )\n",
    "            print(15*'*')\n",
    "            print(classification_report(target_arr_test, y_pred))\n",
    "    if train:\n",
    "        return best, best_wf15_median, best_wf15_knn"
   ]
  },
  {
   "cell_type": "markdown",
   "metadata": {},
   "source": [
    "Model Training"
   ]
  },
  {
   "cell_type": "markdown",
   "metadata": {},
   "source": [
    "Decision Tree Classfier"
   ]
  },
  {
   "cell_type": "code",
   "execution_count": 53,
   "metadata": {},
   "outputs": [
    {
     "name": "stdout",
     "output_type": "stream",
     "text": [
      "***************\n",
      "TRAINING\n",
      "***************\n",
      "***************\n",
      "Model tuned with data not containing F15\n",
      "***************\n",
      "Mean F1 Score : 0.7283656096241983\n",
      "DecisionTreeClassifier(criterion='entropy', max_depth=8, min_samples_leaf=12,\n",
      "                       min_samples_split=10, random_state=42)\n",
      "***************\n",
      "Model tuned with data containing F15 imputed with Median\n",
      "***************\n",
      "Mean F1 Score : 0.7798162509746985\n",
      "DecisionTreeClassifier(max_depth=8, min_samples_leaf=10, min_samples_split=10,\n",
      "                       random_state=42)\n",
      "***************\n",
      "Model tuned with data containing F15 imputed with knn\n",
      "***************\n",
      "Mean F1 Score : 0.7573600729170946\n",
      "DecisionTreeClassifier(max_depth=6, min_samples_leaf=10, min_samples_split=10,\n",
      "                       random_state=42)\n",
      "***************\n",
      "VALIDATE\n",
      "***************\n",
      "***************\n",
      "F1 Score for data not containing F15\n",
      "***************\n",
      "0.7307692307692306\n",
      "***************\n",
      "F1 Score for data containing F15 imputed with Median\n",
      "***************\n",
      "0.8089887640449438\n",
      "***************\n",
      "F1 Score for data containing F15 imputed with knn\n",
      "***************\n",
      "0.7462686567164178\n"
     ]
    }
   ],
   "source": [
    "\n",
    "from sklearn.tree import DecisionTreeClassifier\n",
    "\n",
    "params = {\n",
    "          'min_samples_split': [10, 60, 4],\n",
    "          'max_depth' : [6,7,8], \n",
    "          'min_samples_leaf': [8,10,12],\n",
    "          'criterion': ['gini', 'entropy']\n",
    "          }\n",
    "\n",
    "model = DecisionTreeClassifier(random_state=42)\n",
    "        \n",
    "best_dt, best_dt_wf15_median, best_dt_wf15_knn = report(model, params)"
   ]
  },
  {
   "cell_type": "code",
   "execution_count": 48,
   "metadata": {},
   "outputs": [
    {
     "name": "stdout",
     "output_type": "stream",
     "text": [
      "***************\n",
      "Confusion Matrix\n",
      "***************\n"
     ]
    },
    {
     "data": {
      "image/png": "[encoded data removed]",
      "text/plain": [
       "<Figure size 432x288 with 2 Axes>"
      ]
     },
     "metadata": {
      "needs_background": "light"
     },
     "output_type": "display_data"
    },
    {
     "name": "stdout",
     "output_type": "stream",
     "text": [
      "***************\n",
      "Classification Report \n",
      "***************\n",
      "              precision    recall  f1-score   support\n",
      "\n",
      "           0       0.82      0.87      0.85       162\n",
      "           1       0.84      0.78      0.81       138\n",
      "\n",
      "    accuracy                           0.83       300\n",
      "   macro avg       0.83      0.83      0.83       300\n",
      "weighted avg       0.83      0.83      0.83       300\n",
      "\n"
     ]
    },
    {
     "data": {
      "text/plain": [
       "True"
      ]
     },
     "execution_count": 48,
     "metadata": {},
     "output_type": "execute_result"
    }
   ],
   "source": [
    "# Plot Confusion Matrix and Classification report for best model\n",
    "report(best_dt_wf15_median, params,False,False,False,data_arr_scaled_with_f15_median_test,target_arr_test)"
   ]
  },
  {
   "cell_type": "markdown",
   "metadata": {},
   "source": [
    "GaussianProcessClassifier"
   ]
  },
  {
   "cell_type": "code",
   "execution_count": 108,
   "metadata": {},
   "outputs": [
    {
     "name": "stdout",
     "output_type": "stream",
     "text": [
      "***************\n",
      "TRAINING\n",
      "***************\n",
      "***************\n",
      "Model tuned with data not containing F15\n",
      "***************\n",
      "Cross Validation Score: 0.8797517945887785\n",
      "Test F1 Score:  0.8741258741258742\n",
      "***************\n",
      "Model tuned with data containing F15 imputed with Median\n",
      "***************\n",
      "Cross Validation Score: 0.8739622660994968\n",
      "Test F1 Score:  0.8982456140350877\n",
      "***************\n",
      "Model tuned with data containing F15 imputed with knn\n",
      "***************\n",
      "Cross Validation Score: 0.8923940148310858\n",
      "Test F1 Score:  0.8780487804878048\n"
     ]
    }
   ],
   "source": [
    "from sklearn.gaussian_process import GaussianProcessClassifier\n",
    "from sklearn.gaussian_process.kernels import RationalQuadratic\n",
    "\n",
    "\n",
    "gpc = GaussianProcessClassifier(kernel=1*RationalQuadratic(1.0))\n",
    "best_vc, best_vc_wf15_median, best_vc_wf15_knn = report(gpc, params,True,False,False,'','',False)\n"
   ]
  },
  {
   "cell_type": "markdown",
   "metadata": {},
   "source": [
    "Supoort Vector Machine"
   ]
  },
  {
   "cell_type": "code",
   "execution_count": null,
   "metadata": {},
   "outputs": [
    {
     "name": "stdout",
     "output_type": "stream",
     "text": [
      "***************\n",
      "TRAINING\n",
      "***************\n",
      "***************\n",
      "Model tuned with data not containing F15\n",
      "***************\n",
      "Mean F1 Score : 0.8715268073876755\n",
      "SVC(C=1000, gamma=0.01)\n",
      "***************\n",
      "Model tuned with data containing F15 imputed with Median\n",
      "***************\n",
      "Mean F1 Score : 0.8748044523547535\n",
      "SVC(C=1000, gamma=0.01)\n",
      "***************\n",
      "Model tuned with data containing F15 imputed with knn\n",
      "***************\n",
      "Mean F1 Score : 0.8775519427514427\n",
      "SVC(C=1000, gamma=0.01)\n",
      "***************\n",
      "VALIDATE\n",
      "***************\n",
      "***************\n",
      "F1 Score for data not containing F15\n",
      "***************\n",
      "0.8741258741258742\n",
      "***************\n",
      "F1 Score for data containing F15 imputed with Median\n",
      "***************\n",
      "0.9154929577464788\n",
      "***************\n",
      "F1 Score for data containing F15 imputed with knn\n",
      "***************\n",
      "0.8881118881118881\n"
     ]
    }
   ],
   "source": [
    "\n",
    "from sklearn.svm import SVC\n",
    "\n",
    "params = {    'C': [0.1, 1, 10, 100, 1000],\n",
    "              'gamma': [1, 0.1, 0.01, 0.001, 0.0001],\n",
    "              'kernel': ['rbf','poly']\n",
    "         }\n",
    "model = SVC()\n",
    "best_svc, best_svc_wf15_median, best_svc_wf15_knn = report(model, params)\n",
    "\n"
   ]
  },
  {
   "cell_type": "markdown",
   "metadata": {},
   "source": [
    "KNN CLassifier"
   ]
  },
  {
   "cell_type": "code",
   "execution_count": 103,
   "metadata": {},
   "outputs": [
    {
     "name": "stdout",
     "output_type": "stream",
     "text": [
      "***************\n",
      "TRAINING\n",
      "***************\n",
      "***************\n",
      "Model tuned with data not containing F15\n",
      "***************\n",
      "Mean F1 Score : 0.6719681869011382\n",
      "KNeighborsClassifier(n_neighbors=13)\n",
      "***************\n",
      "Model tuned with data containing F15 imputed with Median\n",
      "***************\n",
      "Mean F1 Score : 0.7109110330794655\n",
      "KNeighborsClassifier(n_neighbors=21)\n",
      "***************\n",
      "Model tuned with data containing F15 imputed with knn\n",
      "***************\n",
      "Mean F1 Score : 0.706970528012366\n",
      "KNeighborsClassifier(n_neighbors=30)\n",
      "***************\n",
      "VALIDATE\n",
      "***************\n",
      "***************\n",
      "F1 Score for data not containing F15\n",
      "***************\n",
      "0.6821705426356589\n",
      "***************\n",
      "F1 Score for data containing F15 imputed with Median\n",
      "***************\n",
      "0.7237354085603114\n",
      "***************\n",
      "F1 Score for data containing F15 imputed with knn\n",
      "***************\n",
      "0.7307692307692306\n"
     ]
    }
   ],
   "source": [
    "from sklearn.neighbors import KNeighborsClassifier\n",
    "\n",
    "params = {'n_neighbors' : range(1,31)}\n",
    "model = KNeighborsClassifier()\n",
    "\n",
    "\n",
    "best_knn, best_knn_wf15_median, best_knn_wf15_knn = report(model, params)"
   ]
  },
  {
   "cell_type": "code",
   "execution_count": 107,
   "metadata": {},
   "outputs": [
    {
     "name": "stdout",
     "output_type": "stream",
     "text": [
      "***************\n",
      "Confusion Matrix\n",
      "***************\n"
     ]
    },
    {
     "data": {
      "image/png": "[encoded data removed]",
      "text/plain": [
       "<Figure size 432x288 with 2 Axes>"
      ]
     },
     "metadata": {
      "needs_background": "light"
     },
     "output_type": "display_data"
    },
    {
     "name": "stdout",
     "output_type": "stream",
     "text": [
      "***************\n",
      "Classification Report \n",
      "***************\n",
      "              precision    recall  f1-score   support\n",
      "\n",
      "           0       0.76      0.89      0.82       162\n",
      "           1       0.84      0.67      0.74       138\n",
      "\n",
      "    accuracy                           0.79       300\n",
      "   macro avg       0.80      0.78      0.78       300\n",
      "weighted avg       0.79      0.79      0.78       300\n",
      "\n"
     ]
    },
    {
     "data": {
      "text/plain": [
       "True"
      ]
     },
     "execution_count": 107,
     "metadata": {},
     "output_type": "execute_result"
    }
   ],
   "source": [
    "report(best_knn_wf15_knn, params,False,False,False,data_arr_scaled_with_f15_median_test,target_arr_test)"
   ]
  },
  {
   "cell_type": "markdown",
   "metadata": {},
   "source": [
    "Ensemble Methods"
   ]
  },
  {
   "cell_type": "markdown",
   "metadata": {},
   "source": [
    "Random Forest"
   ]
  },
  {
   "cell_type": "code",
   "execution_count": 57,
   "metadata": {},
   "outputs": [
    {
     "name": "stdout",
     "output_type": "stream",
     "text": [
      "***************\n",
      "TRAINING\n",
      "***************\n",
      "***************\n",
      "Model tuned with data not containing F15\n",
      "***************\n",
      "Mean F1 Score : 0.8228435849513802\n",
      "RandomForestClassifier(max_depth=90, max_features=3, min_samples_leaf=4,\n",
      "                       min_samples_split=8, n_estimators=80)\n",
      "***************\n",
      "Model tuned with data containing F15 imputed with Median\n",
      "***************\n",
      "Mean F1 Score : 0.8536523784506382\n",
      "RandomForestClassifier(max_depth=110, max_features=3, min_samples_leaf=4,\n",
      "                       min_samples_split=8, n_estimators=200)\n",
      "***************\n",
      "Model tuned with data containing F15 imputed with knn\n",
      "***************\n",
      "Mean F1 Score : 0.8503622196856832\n",
      "RandomForestClassifier(max_depth=90, max_features=2, min_samples_leaf=4,\n",
      "                       min_samples_split=8, n_estimators=200)\n",
      "***************\n",
      "VALIDATE\n",
      "***************\n",
      "***************\n",
      "F1 Score for data not containing F15\n",
      "***************\n",
      "0.7958477508650519\n",
      "***************\n",
      "F1 Score for data containing F15 imputed with Median\n",
      "***************\n",
      "0.8652482269503546\n",
      "***************\n",
      "F1 Score for data containing F15 imputed with knn\n",
      "***************\n",
      "0.8339222614840989\n"
     ]
    }
   ],
   "source": [
    "from sklearn.ensemble import RandomForestClassifier\n",
    "\n",
    "params = {\n",
    "    'bootstrap': [True],\n",
    "    'max_depth': [80, 90, 100, 110],\n",
    "    'max_features': [2, 3],\n",
    "    'min_samples_leaf': [3, 4, 5],\n",
    "    'min_samples_split': [8, 10, 12],\n",
    "    'n_estimators': [80,100, 200, 300]\n",
    "    }\n",
    "model = RandomForestClassifier()\n",
    "best_rf, best_rf_wf15_median, best_rf_wf15_knn = report(model, params)"
   ]
  },
  {
   "cell_type": "markdown",
   "metadata": {},
   "source": [
    "Voting Classifier"
   ]
  },
  {
   "cell_type": "code",
   "execution_count": 124,
   "metadata": {},
   "outputs": [
    {
     "name": "stdout",
     "output_type": "stream",
     "text": [
      "***************\n",
      "TRAINING\n",
      "***************\n",
      "***************\n",
      "Model tuned with data not containing F15\n",
      "***************\n",
      "Cross Validation Score: 0.8836909439872288\n",
      "Test F1 Score:  0.881118881118881\n",
      "***************\n",
      "Model tuned with data containing F15 imputed with Median\n",
      "***************\n",
      "Cross Validation Score: 0.8784467314802129\n",
      "Test F1 Score:  0.9148936170212766\n",
      "***************\n",
      "Model tuned with data containing F15 imputed with knn\n",
      "***************\n",
      "Cross Validation Score: 0.8967078179653442\n",
      "Test F1 Score:  0.8780487804878048\n"
     ]
    }
   ],
   "source": [
    "from sklearn.ensemble import VotingClassifier\n",
    "from sklearn.svm import SVC\n",
    "from sklearn.gaussian_process import GaussianProcessClassifier\n",
    "from sklearn.gaussian_process.kernels import RationalQuadratic\n",
    "\n",
    "\n",
    "\n",
    "#Initializing two svc models\n",
    "\n",
    "sv1 =  SVC(C=1000, gamma=0.01)\n",
    "# sv2 =  SVC(C=100, gamma=0.01)\n",
    "gpc = GaussianProcessClassifier(kernel=1*RationalQuadratic(1.0))\n",
    "\n",
    "#Creating a list of models\n",
    "\n",
    "models = [('SVM 1', sv1),('GPC', gpc)]\n",
    "\n",
    "#Initialize a voting classifier \n",
    "\n",
    "voting_model = VotingClassifier(estimators = models)\n",
    "\n",
    "best_vc, best_vc_wf15_median, best_vc_wf15_knn = report(voting_model, params,True,False,False,'','',False)"
   ]
  },
  {
   "cell_type": "code",
   "execution_count": 126,
   "metadata": {},
   "outputs": [
    {
     "name": "stdout",
     "output_type": "stream",
     "text": [
      "***************\n",
      "Confusion Matrix\n",
      "***************\n"
     ]
    },
    {
     "data": {
      "image/png": "[encoded data removed]",
      "text/plain": [
       "<Figure size 432x288 with 2 Axes>"
      ]
     },
     "metadata": {
      "needs_background": "light"
     },
     "output_type": "display_data"
    },
    {
     "name": "stdout",
     "output_type": "stream",
     "text": [
      "***************\n",
      "Classification Report \n",
      "***************\n",
      "              precision    recall  f1-score   support\n",
      "\n",
      "           0       0.94      0.90      0.91       162\n",
      "           1       0.88      0.93      0.90       138\n",
      "\n",
      "    accuracy                           0.91       300\n",
      "   macro avg       0.91      0.91      0.91       300\n",
      "weighted avg       0.91      0.91      0.91       300\n",
      "\n"
     ]
    },
    {
     "data": {
      "text/plain": [
       "True"
      ]
     },
     "execution_count": 126,
     "metadata": {},
     "output_type": "execute_result"
    }
   ],
   "source": [
    "# Plot report for best performing model\n",
    "report(best_vc_wf15_median, params,False,False,False,data_arr_scaled_with_f15_median_test,target_arr_test,False)"
   ]
  },
  {
   "cell_type": "markdown",
   "metadata": {},
   "source": [
    "Comparative Study : Part b"
   ]
  },
  {
   "cell_type": "code",
   "execution_count": 109,
   "metadata": {},
   "outputs": [
    {
     "name": "stdout",
     "output_type": "stream",
     "text": [
      "(1500, 16)\n"
     ]
    }
   ],
   "source": [
    "test = pd.read_csv('CE802_P2_Data/CE802_P2_Test.csv')\n",
    "print(test.shape)"
   ]
  },
  {
   "cell_type": "code",
   "execution_count": 110,
   "metadata": {},
   "outputs": [
    {
     "name": "stdout",
     "output_type": "stream",
     "text": [
      "(1500, 15) (1500,)\n"
     ]
    },
    {
     "data": {
      "text/html": [
       "<div>\n",
       "<style scoped>\n",
       "    .dataframe tbody tr th:only-of-type {\n",
       "        vertical-align: middle;\n",
       "    }\n",
       "\n",
       "    .dataframe tbody tr th {\n",
       "        vertical-align: top;\n",
       "    }\n",
       "\n",
       "    .dataframe thead th {\n",
       "        text-align: right;\n",
       "    }\n",
       "</style>\n",
       "<table border=\"1\" class=\"dataframe\">\n",
       "  <thead>\n",
       "    <tr style=\"text-align: right;\">\n",
       "      <th></th>\n",
       "      <th>F1</th>\n",
       "      <th>F2</th>\n",
       "      <th>F3</th>\n",
       "      <th>F4</th>\n",
       "      <th>F5</th>\n",
       "      <th>F6</th>\n",
       "      <th>F7</th>\n",
       "      <th>F8</th>\n",
       "      <th>F9</th>\n",
       "      <th>F10</th>\n",
       "      <th>F11</th>\n",
       "      <th>F12</th>\n",
       "      <th>F13</th>\n",
       "      <th>F14</th>\n",
       "      <th>F15</th>\n",
       "      <th>Class</th>\n",
       "    </tr>\n",
       "  </thead>\n",
       "  <tbody>\n",
       "    <tr>\n",
       "      <th>0</th>\n",
       "      <td>2</td>\n",
       "      <td>-38.31</td>\n",
       "      <td>1.62</td>\n",
       "      <td>248.04</td>\n",
       "      <td>-11.74</td>\n",
       "      <td>-9.25</td>\n",
       "      <td>-5.66</td>\n",
       "      <td>16.40</td>\n",
       "      <td>2.92</td>\n",
       "      <td>1.17</td>\n",
       "      <td>-13.14</td>\n",
       "      <td>2</td>\n",
       "      <td>-74.53</td>\n",
       "      <td>9.18</td>\n",
       "      <td>NaN</td>\n",
       "      <td>True</td>\n",
       "    </tr>\n",
       "    <tr>\n",
       "      <th>1</th>\n",
       "      <td>20</td>\n",
       "      <td>-24.03</td>\n",
       "      <td>11.40</td>\n",
       "      <td>629.04</td>\n",
       "      <td>-8.02</td>\n",
       "      <td>-5.35</td>\n",
       "      <td>-28.66</td>\n",
       "      <td>27.14</td>\n",
       "      <td>16.70</td>\n",
       "      <td>-10.56</td>\n",
       "      <td>-8.67</td>\n",
       "      <td>15</td>\n",
       "      <td>-14.53</td>\n",
       "      <td>2.06</td>\n",
       "      <td>NaN</td>\n",
       "      <td>False</td>\n",
       "    </tr>\n",
       "    <tr>\n",
       "      <th>2</th>\n",
       "      <td>2</td>\n",
       "      <td>-45.06</td>\n",
       "      <td>1.84</td>\n",
       "      <td>206.04</td>\n",
       "      <td>-11.73</td>\n",
       "      <td>-9.28</td>\n",
       "      <td>-7.66</td>\n",
       "      <td>15.94</td>\n",
       "      <td>1.70</td>\n",
       "      <td>-1.77</td>\n",
       "      <td>-20.37</td>\n",
       "      <td>3</td>\n",
       "      <td>-40.53</td>\n",
       "      <td>7.12</td>\n",
       "      <td>NaN</td>\n",
       "      <td>True</td>\n",
       "    </tr>\n",
       "    <tr>\n",
       "      <th>3</th>\n",
       "      <td>20</td>\n",
       "      <td>-22.35</td>\n",
       "      <td>18.30</td>\n",
       "      <td>539.04</td>\n",
       "      <td>-7.14</td>\n",
       "      <td>-4.15</td>\n",
       "      <td>-28.66</td>\n",
       "      <td>27.14</td>\n",
       "      <td>11.70</td>\n",
       "      <td>-14.97</td>\n",
       "      <td>-8.55</td>\n",
       "      <td>195</td>\n",
       "      <td>-29.53</td>\n",
       "      <td>1.46</td>\n",
       "      <td>-6.93</td>\n",
       "      <td>True</td>\n",
       "    </tr>\n",
       "    <tr>\n",
       "      <th>4</th>\n",
       "      <td>20</td>\n",
       "      <td>-22.47</td>\n",
       "      <td>10.70</td>\n",
       "      <td>749.04</td>\n",
       "      <td>-7.13</td>\n",
       "      <td>-4.60</td>\n",
       "      <td>-8.66</td>\n",
       "      <td>35.14</td>\n",
       "      <td>28.70</td>\n",
       "      <td>-12.33</td>\n",
       "      <td>-10.47</td>\n",
       "      <td>285</td>\n",
       "      <td>-74.53</td>\n",
       "      <td>-1.74</td>\n",
       "      <td>NaN</td>\n",
       "      <td>True</td>\n",
       "    </tr>\n",
       "  </tbody>\n",
       "</table>\n",
       "</div>"
      ],
      "text/plain": [
       "   F1     F2     F3      F4     F5    F6     F7     F8     F9    F10    F11  \\\n",
       "0   2 -38.31   1.62  248.04 -11.74 -9.25  -5.66  16.40   2.92   1.17 -13.14   \n",
       "1  20 -24.03  11.40  629.04  -8.02 -5.35 -28.66  27.14  16.70 -10.56  -8.67   \n",
       "2   2 -45.06   1.84  206.04 -11.73 -9.28  -7.66  15.94   1.70  -1.77 -20.37   \n",
       "3  20 -22.35  18.30  539.04  -7.14 -4.15 -28.66  27.14  11.70 -14.97  -8.55   \n",
       "4  20 -22.47  10.70  749.04  -7.13 -4.60  -8.66  35.14  28.70 -12.33 -10.47   \n",
       "\n",
       "   F12    F13   F14   F15  Class  \n",
       "0    2 -74.53  9.18   NaN   True  \n",
       "1   15 -14.53  2.06   NaN  False  \n",
       "2    3 -40.53  7.12   NaN   True  \n",
       "3  195 -29.53  1.46 -6.93   True  \n",
       "4  285 -74.53 -1.74   NaN   True  "
      ]
     },
     "execution_count": 110,
     "metadata": {},
     "output_type": "execute_result"
    }
   ],
   "source": [
    "# Transform the features using pipelin\n",
    "# choose the voting classifier model as the best model\n",
    "# store predictions in dataframe\n",
    "\n",
    "_, y_test = df_to_array(test)\n",
    "X_test = data_with_f15(test,True)\n",
    "X_test_scaled = num_f15_pipeline_median.transform(X_test)\n",
    "y_pred = best_vc_wf15_median.predict(X_test_scaled)\n",
    "test.Class = np.where(y_pred == 1, True, False)\n",
    "test.head()"
   ]
  },
  {
   "cell_type": "code",
   "execution_count": 116,
   "metadata": {},
   "outputs": [
    {
     "data": {
      "text/plain": [
       "False    829\n",
       "True     671\n",
       "Name: Class, dtype: int64"
      ]
     },
     "execution_count": 116,
     "metadata": {},
     "output_type": "execute_result"
    }
   ],
   "source": [
    "test['Class'].value_counts()"
   ]
  },
  {
   "cell_type": "code",
   "execution_count": 117,
   "metadata": {},
   "outputs": [],
   "source": [
    "test.to_csv('CE802_P2_Test_v1.csv',index=False)"
   ]
  }
 ],
 "metadata": {
  "interpreter": {
   "hash": "c7b7b3843d400c315414b432a574414a6ee198ac06a50ccad9437f04eac0d12c"
  },
  "kernelspec": {
   "display_name": "Python 3.7.7 ('py377')",
   "language": "python",
   "name": "python3"
  },
  "language_info": {
   "codemirror_mode": {
    "name": "ipython",
    "version": 3
   },
   "file_extension": ".py",
   "mimetype": "text/x-python",
   "name": "python",
   "nbconvert_exporter": "python",
   "pygments_lexer": "ipython3",
   "version": "3.7.7"
  },
  "orig_nbformat": 4
 },
 "nbformat": 4,
 "nbformat_minor": 2
}
