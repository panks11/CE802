{
  "cells": [
    {
      "cell_type": "markdown",
      "metadata": {
        "id": "view-in-github",
        "colab_type": "text"
      },
      "source": [
        "<a href=\"https://colab.research.google.com/github/panks11/CE802/blob/main/Pandas_and_preprocessing_in_scikit_learn.ipynb\" target=\"_parent\"><img src=\"https://colab.research.google.com/assets/colab-badge.svg\" alt=\"Open In Colab\"/></a>"
      ]
    },
    {
      "cell_type": "markdown",
      "metadata": {
        "id": "JOxzysgcxTL2"
      },
      "source": [
        "# Data preparation for machine learning"
      ]
    },
    {
      "cell_type": "markdown",
      "metadata": {
        "id": "3Iz2KWNYxTL7"
      },
      "source": [
        "By: Jacobo Fernandez-Vargas and Luca Citi\n",
        "\n",
        "Based on the [scikit-learn](http://scikit-learn.org/stable/tutorial/basic/tutorial.html) and [pandas](https://pandas.pydata.org/docs/getting_started/index.html) documentation"
      ]
    },
    {
      "cell_type": "markdown",
      "metadata": {
        "id": "DtTZx9roxTL9"
      },
      "source": [
        "## Loading data with Pandas"
      ]
    },
    {
      "cell_type": "markdown",
      "metadata": {
        "id": "9s2Oo9xCxTL9"
      },
      "source": [
        "Pandas is a powerfull library that is used in data analysis. We are not going to explore all its options but only focus in its functionalities that allow us to read data that contains non-numeric values such as text or dates. Pandas can also load data from excel files using the library 'xlrd'. Pandas supports reading and writing other complex data types such as sql, json, html and more as well.\n",
        "When reading CSV files, Pandas tries to infer the type from the values in each column. We can force Pandas to treat a column as containing dates and even specify that we want to treat dates as 'dayfirst', i.e. DD/MM/YYYY (the way used in several countries, including the UK) rather than MM/DD/YYYY (like in the USA).\n",
        "If we have all numeric values in a CSV format we can also use Numpy directly to read the table but will not have access to Pandas functionalities."
      ]
    },
    {
      "cell_type": "code",
      "execution_count": 108,
      "metadata": {
        "id": "0a0ciLXMxTL-"
      },
      "outputs": [],
      "source": [
        "import pandas as pd"
      ]
    },
    {
      "cell_type": "code",
      "execution_count": 109,
      "metadata": {
        "colab": {
          "base_uri": "https://localhost:8080/",
          "height": 1000
        },
        "id": "It8qHIYYxTL_",
        "outputId": "b6e328e9-bde7-4de7-eb52-4897fae7235a"
      },
      "outputs": [
        {
          "output_type": "execute_result",
          "data": {
            "text/html": [
              "\n",
              "  <div id=\"df-59218957-0e95-4c94-b4e6-0a97e9787217\">\n",
              "    <div class=\"colab-df-container\">\n",
              "      <div>\n",
              "<style scoped>\n",
              "    .dataframe tbody tr th:only-of-type {\n",
              "        vertical-align: middle;\n",
              "    }\n",
              "\n",
              "    .dataframe tbody tr th {\n",
              "        vertical-align: top;\n",
              "    }\n",
              "\n",
              "    .dataframe thead th {\n",
              "        text-align: right;\n",
              "    }\n",
              "</style>\n",
              "<table border=\"1\" class=\"dataframe\">\n",
              "  <thead>\n",
              "    <tr style=\"text-align: right;\">\n",
              "      <th></th>\n",
              "      <th>Date</th>\n",
              "      <th>Time</th>\n",
              "      <th>Size</th>\n",
              "      <th>Colour</th>\n",
              "      <th>Cost</th>\n",
              "      <th>Label</th>\n",
              "    </tr>\n",
              "  </thead>\n",
              "  <tbody>\n",
              "    <tr>\n",
              "      <th>0</th>\n",
              "      <td>2020-10-16</td>\n",
              "      <td>11.0</td>\n",
              "      <td>Small</td>\n",
              "      <td>Blue</td>\n",
              "      <td>109.521068</td>\n",
              "      <td>1</td>\n",
              "    </tr>\n",
              "    <tr>\n",
              "      <th>1</th>\n",
              "      <td>2020-10-16</td>\n",
              "      <td>13.0</td>\n",
              "      <td>Small</td>\n",
              "      <td>Red</td>\n",
              "      <td>112.141170</td>\n",
              "      <td>1</td>\n",
              "    </tr>\n",
              "    <tr>\n",
              "      <th>2</th>\n",
              "      <td>2020-10-16</td>\n",
              "      <td>17.0</td>\n",
              "      <td>Medium</td>\n",
              "      <td>Green</td>\n",
              "      <td>112.004677</td>\n",
              "      <td>1</td>\n",
              "    </tr>\n",
              "    <tr>\n",
              "      <th>3</th>\n",
              "      <td>2020-10-17</td>\n",
              "      <td>9.0</td>\n",
              "      <td>Large</td>\n",
              "      <td>Green</td>\n",
              "      <td>15.112922</td>\n",
              "      <td>0</td>\n",
              "    </tr>\n",
              "    <tr>\n",
              "      <th>4</th>\n",
              "      <td>2020-10-17</td>\n",
              "      <td>11.0</td>\n",
              "      <td>Large</td>\n",
              "      <td>Green</td>\n",
              "      <td>105.663642</td>\n",
              "      <td>1</td>\n",
              "    </tr>\n",
              "    <tr>\n",
              "      <th>5</th>\n",
              "      <td>2020-10-17</td>\n",
              "      <td>17.0</td>\n",
              "      <td>Medium</td>\n",
              "      <td>Green</td>\n",
              "      <td>5.158097</td>\n",
              "      <td>0</td>\n",
              "    </tr>\n",
              "    <tr>\n",
              "      <th>6</th>\n",
              "      <td>2020-10-18</td>\n",
              "      <td>9.0</td>\n",
              "      <td>Small</td>\n",
              "      <td>Blue</td>\n",
              "      <td>107.947930</td>\n",
              "      <td>1</td>\n",
              "    </tr>\n",
              "    <tr>\n",
              "      <th>7</th>\n",
              "      <td>2020-10-18</td>\n",
              "      <td>NaN</td>\n",
              "      <td>Large</td>\n",
              "      <td>Red</td>\n",
              "      <td>8.320838</td>\n",
              "      <td>0</td>\n",
              "    </tr>\n",
              "    <tr>\n",
              "      <th>8</th>\n",
              "      <td>2020-10-18</td>\n",
              "      <td>13.0</td>\n",
              "      <td>Large</td>\n",
              "      <td>Red</td>\n",
              "      <td>113.424684</td>\n",
              "      <td>1</td>\n",
              "    </tr>\n",
              "    <tr>\n",
              "      <th>9</th>\n",
              "      <td>2020-10-18</td>\n",
              "      <td>15.0</td>\n",
              "      <td>Small</td>\n",
              "      <td>Blue</td>\n",
              "      <td>103.223563</td>\n",
              "      <td>1</td>\n",
              "    </tr>\n",
              "    <tr>\n",
              "      <th>10</th>\n",
              "      <td>2020-10-18</td>\n",
              "      <td>17.0</td>\n",
              "      <td>Large</td>\n",
              "      <td>Red</td>\n",
              "      <td>115.190210</td>\n",
              "      <td>1</td>\n",
              "    </tr>\n",
              "    <tr>\n",
              "      <th>11</th>\n",
              "      <td>2020-10-19</td>\n",
              "      <td>9.0</td>\n",
              "      <td>Medium</td>\n",
              "      <td>Blue</td>\n",
              "      <td>105.216665</td>\n",
              "      <td>1</td>\n",
              "    </tr>\n",
              "    <tr>\n",
              "      <th>12</th>\n",
              "      <td>2020-10-19</td>\n",
              "      <td>11.0</td>\n",
              "      <td>Small</td>\n",
              "      <td>Red</td>\n",
              "      <td>103.433604</td>\n",
              "      <td>1</td>\n",
              "    </tr>\n",
              "    <tr>\n",
              "      <th>13</th>\n",
              "      <td>2020-10-19</td>\n",
              "      <td>13.0</td>\n",
              "      <td>Large</td>\n",
              "      <td>Blue</td>\n",
              "      <td>15.599248</td>\n",
              "      <td>0</td>\n",
              "    </tr>\n",
              "    <tr>\n",
              "      <th>14</th>\n",
              "      <td>2020-10-19</td>\n",
              "      <td>15.0</td>\n",
              "      <td>Small</td>\n",
              "      <td>Red</td>\n",
              "      <td>12.904205</td>\n",
              "      <td>0</td>\n",
              "    </tr>\n",
              "    <tr>\n",
              "      <th>15</th>\n",
              "      <td>2020-10-20</td>\n",
              "      <td>9.0</td>\n",
              "      <td>Small</td>\n",
              "      <td>Red</td>\n",
              "      <td>19.042334</td>\n",
              "      <td>0</td>\n",
              "    </tr>\n",
              "    <tr>\n",
              "      <th>16</th>\n",
              "      <td>2020-10-20</td>\n",
              "      <td>NaN</td>\n",
              "      <td>Large</td>\n",
              "      <td>Blue</td>\n",
              "      <td>113.658567</td>\n",
              "      <td>1</td>\n",
              "    </tr>\n",
              "    <tr>\n",
              "      <th>17</th>\n",
              "      <td>2020-10-20</td>\n",
              "      <td>17.0</td>\n",
              "      <td>Medium</td>\n",
              "      <td>Red</td>\n",
              "      <td>115.991724</td>\n",
              "      <td>1</td>\n",
              "    </tr>\n",
              "    <tr>\n",
              "      <th>18</th>\n",
              "      <td>2020-10-23</td>\n",
              "      <td>11.0</td>\n",
              "      <td>Medium</td>\n",
              "      <td>Blue</td>\n",
              "      <td>3.643787</td>\n",
              "      <td>0</td>\n",
              "    </tr>\n",
              "    <tr>\n",
              "      <th>19</th>\n",
              "      <td>2020-10-24</td>\n",
              "      <td>11.0</td>\n",
              "      <td>Medium</td>\n",
              "      <td>Red</td>\n",
              "      <td>118.108710</td>\n",
              "      <td>1</td>\n",
              "    </tr>\n",
              "    <tr>\n",
              "      <th>20</th>\n",
              "      <td>2020-10-25</td>\n",
              "      <td>11.0</td>\n",
              "      <td>Large</td>\n",
              "      <td>Green</td>\n",
              "      <td>14.973611</td>\n",
              "      <td>0</td>\n",
              "    </tr>\n",
              "    <tr>\n",
              "      <th>21</th>\n",
              "      <td>2020-10-25</td>\n",
              "      <td>NaN</td>\n",
              "      <td>Large</td>\n",
              "      <td>Blue</td>\n",
              "      <td>10.699388</td>\n",
              "      <td>0</td>\n",
              "    </tr>\n",
              "    <tr>\n",
              "      <th>22</th>\n",
              "      <td>2020-10-25</td>\n",
              "      <td>15.0</td>\n",
              "      <td>Large</td>\n",
              "      <td>Red</td>\n",
              "      <td>106.224366</td>\n",
              "      <td>1</td>\n",
              "    </tr>\n",
              "    <tr>\n",
              "      <th>23</th>\n",
              "      <td>2020-10-26</td>\n",
              "      <td>11.0</td>\n",
              "      <td>Large</td>\n",
              "      <td>Red</td>\n",
              "      <td>114.638621</td>\n",
              "      <td>1</td>\n",
              "    </tr>\n",
              "    <tr>\n",
              "      <th>24</th>\n",
              "      <td>2020-10-26</td>\n",
              "      <td>13.0</td>\n",
              "      <td>Small</td>\n",
              "      <td>Blue</td>\n",
              "      <td>1.228235</td>\n",
              "      <td>0</td>\n",
              "    </tr>\n",
              "    <tr>\n",
              "      <th>25</th>\n",
              "      <td>2020-10-27</td>\n",
              "      <td>11.0</td>\n",
              "      <td>Large</td>\n",
              "      <td>Red</td>\n",
              "      <td>5.791450</td>\n",
              "      <td>0</td>\n",
              "    </tr>\n",
              "    <tr>\n",
              "      <th>26</th>\n",
              "      <td>2020-10-28</td>\n",
              "      <td>9.0</td>\n",
              "      <td>Small</td>\n",
              "      <td>Red</td>\n",
              "      <td>8.606806</td>\n",
              "      <td>0</td>\n",
              "    </tr>\n",
              "    <tr>\n",
              "      <th>27</th>\n",
              "      <td>2020-10-28</td>\n",
              "      <td>13.0</td>\n",
              "      <td>Large</td>\n",
              "      <td>Blue</td>\n",
              "      <td>12.414377</td>\n",
              "      <td>0</td>\n",
              "    </tr>\n",
              "    <tr>\n",
              "      <th>28</th>\n",
              "      <td>2020-10-30</td>\n",
              "      <td>NaN</td>\n",
              "      <td>Large</td>\n",
              "      <td>Red</td>\n",
              "      <td>115.663402</td>\n",
              "      <td>1</td>\n",
              "    </tr>\n",
              "    <tr>\n",
              "      <th>29</th>\n",
              "      <td>2020-10-30</td>\n",
              "      <td>13.0</td>\n",
              "      <td>Small</td>\n",
              "      <td>Blue</td>\n",
              "      <td>115.410273</td>\n",
              "      <td>1</td>\n",
              "    </tr>\n",
              "    <tr>\n",
              "      <th>30</th>\n",
              "      <td>2020-10-30</td>\n",
              "      <td>11.0</td>\n",
              "      <td>Small</td>\n",
              "      <td>Red</td>\n",
              "      <td>105.401517</td>\n",
              "      <td>1</td>\n",
              "    </tr>\n",
              "    <tr>\n",
              "      <th>31</th>\n",
              "      <td>2020-10-31</td>\n",
              "      <td>13.0</td>\n",
              "      <td>Medium</td>\n",
              "      <td>Green</td>\n",
              "      <td>0.137767</td>\n",
              "      <td>0</td>\n",
              "    </tr>\n",
              "    <tr>\n",
              "      <th>32</th>\n",
              "      <td>2020-11-01</td>\n",
              "      <td>9.0</td>\n",
              "      <td>Large</td>\n",
              "      <td>Green</td>\n",
              "      <td>112.661384</td>\n",
              "      <td>1</td>\n",
              "    </tr>\n",
              "  </tbody>\n",
              "</table>\n",
              "</div>\n",
              "      <button class=\"colab-df-convert\" onclick=\"convertToInteractive('df-59218957-0e95-4c94-b4e6-0a97e9787217')\"\n",
              "              title=\"Convert this dataframe to an interactive table.\"\n",
              "              style=\"display:none;\">\n",
              "        \n",
              "  <svg xmlns=\"http://www.w3.org/2000/svg\" height=\"24px\"viewBox=\"0 0 24 24\"\n",
              "       width=\"24px\">\n",
              "    <path d=\"M0 0h24v24H0V0z\" fill=\"none\"/>\n",
              "    <path d=\"M18.56 5.44l.94 2.06.94-2.06 2.06-.94-2.06-.94-.94-2.06-.94 2.06-2.06.94zm-11 1L8.5 8.5l.94-2.06 2.06-.94-2.06-.94L8.5 2.5l-.94 2.06-2.06.94zm10 10l.94 2.06.94-2.06 2.06-.94-2.06-.94-.94-2.06-.94 2.06-2.06.94z\"/><path d=\"M17.41 7.96l-1.37-1.37c-.4-.4-.92-.59-1.43-.59-.52 0-1.04.2-1.43.59L10.3 9.45l-7.72 7.72c-.78.78-.78 2.05 0 2.83L4 21.41c.39.39.9.59 1.41.59.51 0 1.02-.2 1.41-.59l7.78-7.78 2.81-2.81c.8-.78.8-2.07 0-2.86zM5.41 20L4 18.59l7.72-7.72 1.47 1.35L5.41 20z\"/>\n",
              "  </svg>\n",
              "      </button>\n",
              "      \n",
              "  <style>\n",
              "    .colab-df-container {\n",
              "      display:flex;\n",
              "      flex-wrap:wrap;\n",
              "      gap: 12px;\n",
              "    }\n",
              "\n",
              "    .colab-df-convert {\n",
              "      background-color: #E8F0FE;\n",
              "      border: none;\n",
              "      border-radius: 50%;\n",
              "      cursor: pointer;\n",
              "      display: none;\n",
              "      fill: #1967D2;\n",
              "      height: 32px;\n",
              "      padding: 0 0 0 0;\n",
              "      width: 32px;\n",
              "    }\n",
              "\n",
              "    .colab-df-convert:hover {\n",
              "      background-color: #E2EBFA;\n",
              "      box-shadow: 0px 1px 2px rgba(60, 64, 67, 0.3), 0px 1px 3px 1px rgba(60, 64, 67, 0.15);\n",
              "      fill: #174EA6;\n",
              "    }\n",
              "\n",
              "    [theme=dark] .colab-df-convert {\n",
              "      background-color: #3B4455;\n",
              "      fill: #D2E3FC;\n",
              "    }\n",
              "\n",
              "    [theme=dark] .colab-df-convert:hover {\n",
              "      background-color: #434B5C;\n",
              "      box-shadow: 0px 1px 3px 1px rgba(0, 0, 0, 0.15);\n",
              "      filter: drop-shadow(0px 1px 2px rgba(0, 0, 0, 0.3));\n",
              "      fill: #FFFFFF;\n",
              "    }\n",
              "  </style>\n",
              "\n",
              "      <script>\n",
              "        const buttonEl =\n",
              "          document.querySelector('#df-59218957-0e95-4c94-b4e6-0a97e9787217 button.colab-df-convert');\n",
              "        buttonEl.style.display =\n",
              "          google.colab.kernel.accessAllowed ? 'block' : 'none';\n",
              "\n",
              "        async function convertToInteractive(key) {\n",
              "          const element = document.querySelector('#df-59218957-0e95-4c94-b4e6-0a97e9787217');\n",
              "          const dataTable =\n",
              "            await google.colab.kernel.invokeFunction('convertToInteractive',\n",
              "                                                     [key], {});\n",
              "          if (!dataTable) return;\n",
              "\n",
              "          const docLinkHtml = 'Like what you see? Visit the ' +\n",
              "            '<a target=\"_blank\" href=https://colab.research.google.com/notebooks/data_table.ipynb>data table notebook</a>'\n",
              "            + ' to learn more about interactive tables.';\n",
              "          element.innerHTML = '';\n",
              "          dataTable['output_type'] = 'display_data';\n",
              "          await google.colab.output.renderOutput(dataTable, element);\n",
              "          const docLink = document.createElement('div');\n",
              "          docLink.innerHTML = docLinkHtml;\n",
              "          element.appendChild(docLink);\n",
              "        }\n",
              "      </script>\n",
              "    </div>\n",
              "  </div>\n",
              "  "
            ],
            "text/plain": [
              "         Date  Time    Size Colour        Cost  Label\n",
              "0  2020-10-16  11.0   Small   Blue  109.521068      1\n",
              "1  2020-10-16  13.0   Small    Red  112.141170      1\n",
              "2  2020-10-16  17.0  Medium  Green  112.004677      1\n",
              "3  2020-10-17   9.0   Large  Green   15.112922      0\n",
              "4  2020-10-17  11.0   Large  Green  105.663642      1\n",
              "5  2020-10-17  17.0  Medium  Green    5.158097      0\n",
              "6  2020-10-18   9.0   Small   Blue  107.947930      1\n",
              "7  2020-10-18   NaN   Large    Red    8.320838      0\n",
              "8  2020-10-18  13.0   Large    Red  113.424684      1\n",
              "9  2020-10-18  15.0   Small   Blue  103.223563      1\n",
              "10 2020-10-18  17.0   Large    Red  115.190210      1\n",
              "11 2020-10-19   9.0  Medium   Blue  105.216665      1\n",
              "12 2020-10-19  11.0   Small    Red  103.433604      1\n",
              "13 2020-10-19  13.0   Large   Blue   15.599248      0\n",
              "14 2020-10-19  15.0   Small    Red   12.904205      0\n",
              "15 2020-10-20   9.0   Small    Red   19.042334      0\n",
              "16 2020-10-20   NaN   Large   Blue  113.658567      1\n",
              "17 2020-10-20  17.0  Medium    Red  115.991724      1\n",
              "18 2020-10-23  11.0  Medium   Blue    3.643787      0\n",
              "19 2020-10-24  11.0  Medium    Red  118.108710      1\n",
              "20 2020-10-25  11.0   Large  Green   14.973611      0\n",
              "21 2020-10-25   NaN   Large   Blue   10.699388      0\n",
              "22 2020-10-25  15.0   Large    Red  106.224366      1\n",
              "23 2020-10-26  11.0   Large    Red  114.638621      1\n",
              "24 2020-10-26  13.0   Small   Blue    1.228235      0\n",
              "25 2020-10-27  11.0   Large    Red    5.791450      0\n",
              "26 2020-10-28   9.0   Small    Red    8.606806      0\n",
              "27 2020-10-28  13.0   Large   Blue   12.414377      0\n",
              "28 2020-10-30   NaN   Large    Red  115.663402      1\n",
              "29 2020-10-30  13.0   Small   Blue  115.410273      1\n",
              "30 2020-10-30  11.0   Small    Red  105.401517      1\n",
              "31 2020-10-31  13.0  Medium  Green    0.137767      0\n",
              "32 2020-11-01   9.0   Large  Green  112.661384      1"
            ]
          },
          "metadata": {},
          "execution_count": 109
        }
      ],
      "source": [
        "data = pd.read_csv('https://raw.githubusercontent.com/panks11/CE802/main/example1.csv', parse_dates=['Date'], dayfirst=True)\n",
        "data"
      ]
    },
    {
      "cell_type": "markdown",
      "metadata": {
        "id": "UFseJOcXxTL_"
      },
      "source": [
        "In the same way that the narray is the fundamental brick of the numpy library, the dataframe is the fundamental brick of the pandas library.\n",
        "A dataframe is a a table that contains variables (or series as they are called in Pandas) as columns and samples in the rows. We can acces to each of the series using the name of the variable, either as an index of an array, or as field of the object.\n",
        "\n",
        "The method `head` shows only the first 5 entries of the table."
      ]
    },
    {
      "cell_type": "code",
      "execution_count": 110,
      "metadata": {
        "colab": {
          "base_uri": "https://localhost:8080/"
        },
        "id": "id1skZTrxTMA",
        "outputId": "57d1ac65-e5a1-4951-b68e-87c5ef861227"
      },
      "outputs": [
        {
          "output_type": "stream",
          "name": "stdout",
          "text": [
            "0   2020-10-16\n",
            "1   2020-10-16\n",
            "2   2020-10-16\n",
            "3   2020-10-17\n",
            "4   2020-10-17\n",
            "Name: Date, dtype: datetime64[ns]\n",
            "0   2020-10-16\n",
            "1   2020-10-16\n",
            "2   2020-10-16\n",
            "3   2020-10-17\n",
            "4   2020-10-17\n",
            "Name: Date, dtype: datetime64[ns]\n"
          ]
        }
      ],
      "source": [
        "print(data['Date'].head())\n",
        "print(data.Date.head())"
      ]
    },
    {
      "cell_type": "markdown",
      "metadata": {
        "id": "i84baLWKxTMA"
      },
      "source": [
        "To select rows, we ca use either a conditional format or a a more traditional indexing.\n",
        "For example let's select the rows for which the color is blue."
      ]
    },
    {
      "cell_type": "code",
      "execution_count": 111,
      "metadata": {
        "colab": {
          "base_uri": "https://localhost:8080/",
          "height": 394
        },
        "id": "OR9-wXLyxTMB",
        "outputId": "c7e7294c-c6dc-4782-863e-987c774f17bf"
      },
      "outputs": [
        {
          "output_type": "execute_result",
          "data": {
            "text/html": [
              "\n",
              "  <div id=\"df-893a7c7c-9594-439e-80e6-99759ab39d86\">\n",
              "    <div class=\"colab-df-container\">\n",
              "      <div>\n",
              "<style scoped>\n",
              "    .dataframe tbody tr th:only-of-type {\n",
              "        vertical-align: middle;\n",
              "    }\n",
              "\n",
              "    .dataframe tbody tr th {\n",
              "        vertical-align: top;\n",
              "    }\n",
              "\n",
              "    .dataframe thead th {\n",
              "        text-align: right;\n",
              "    }\n",
              "</style>\n",
              "<table border=\"1\" class=\"dataframe\">\n",
              "  <thead>\n",
              "    <tr style=\"text-align: right;\">\n",
              "      <th></th>\n",
              "      <th>Date</th>\n",
              "      <th>Time</th>\n",
              "      <th>Size</th>\n",
              "      <th>Colour</th>\n",
              "      <th>Cost</th>\n",
              "      <th>Label</th>\n",
              "    </tr>\n",
              "  </thead>\n",
              "  <tbody>\n",
              "    <tr>\n",
              "      <th>0</th>\n",
              "      <td>2020-10-16</td>\n",
              "      <td>11.0</td>\n",
              "      <td>Small</td>\n",
              "      <td>Blue</td>\n",
              "      <td>109.521068</td>\n",
              "      <td>1</td>\n",
              "    </tr>\n",
              "    <tr>\n",
              "      <th>6</th>\n",
              "      <td>2020-10-18</td>\n",
              "      <td>9.0</td>\n",
              "      <td>Small</td>\n",
              "      <td>Blue</td>\n",
              "      <td>107.947930</td>\n",
              "      <td>1</td>\n",
              "    </tr>\n",
              "    <tr>\n",
              "      <th>9</th>\n",
              "      <td>2020-10-18</td>\n",
              "      <td>15.0</td>\n",
              "      <td>Small</td>\n",
              "      <td>Blue</td>\n",
              "      <td>103.223563</td>\n",
              "      <td>1</td>\n",
              "    </tr>\n",
              "    <tr>\n",
              "      <th>11</th>\n",
              "      <td>2020-10-19</td>\n",
              "      <td>9.0</td>\n",
              "      <td>Medium</td>\n",
              "      <td>Blue</td>\n",
              "      <td>105.216665</td>\n",
              "      <td>1</td>\n",
              "    </tr>\n",
              "    <tr>\n",
              "      <th>13</th>\n",
              "      <td>2020-10-19</td>\n",
              "      <td>13.0</td>\n",
              "      <td>Large</td>\n",
              "      <td>Blue</td>\n",
              "      <td>15.599248</td>\n",
              "      <td>0</td>\n",
              "    </tr>\n",
              "    <tr>\n",
              "      <th>16</th>\n",
              "      <td>2020-10-20</td>\n",
              "      <td>NaN</td>\n",
              "      <td>Large</td>\n",
              "      <td>Blue</td>\n",
              "      <td>113.658567</td>\n",
              "      <td>1</td>\n",
              "    </tr>\n",
              "    <tr>\n",
              "      <th>18</th>\n",
              "      <td>2020-10-23</td>\n",
              "      <td>11.0</td>\n",
              "      <td>Medium</td>\n",
              "      <td>Blue</td>\n",
              "      <td>3.643787</td>\n",
              "      <td>0</td>\n",
              "    </tr>\n",
              "    <tr>\n",
              "      <th>21</th>\n",
              "      <td>2020-10-25</td>\n",
              "      <td>NaN</td>\n",
              "      <td>Large</td>\n",
              "      <td>Blue</td>\n",
              "      <td>10.699388</td>\n",
              "      <td>0</td>\n",
              "    </tr>\n",
              "    <tr>\n",
              "      <th>24</th>\n",
              "      <td>2020-10-26</td>\n",
              "      <td>13.0</td>\n",
              "      <td>Small</td>\n",
              "      <td>Blue</td>\n",
              "      <td>1.228235</td>\n",
              "      <td>0</td>\n",
              "    </tr>\n",
              "    <tr>\n",
              "      <th>27</th>\n",
              "      <td>2020-10-28</td>\n",
              "      <td>13.0</td>\n",
              "      <td>Large</td>\n",
              "      <td>Blue</td>\n",
              "      <td>12.414377</td>\n",
              "      <td>0</td>\n",
              "    </tr>\n",
              "    <tr>\n",
              "      <th>29</th>\n",
              "      <td>2020-10-30</td>\n",
              "      <td>13.0</td>\n",
              "      <td>Small</td>\n",
              "      <td>Blue</td>\n",
              "      <td>115.410273</td>\n",
              "      <td>1</td>\n",
              "    </tr>\n",
              "  </tbody>\n",
              "</table>\n",
              "</div>\n",
              "      <button class=\"colab-df-convert\" onclick=\"convertToInteractive('df-893a7c7c-9594-439e-80e6-99759ab39d86')\"\n",
              "              title=\"Convert this dataframe to an interactive table.\"\n",
              "              style=\"display:none;\">\n",
              "        \n",
              "  <svg xmlns=\"http://www.w3.org/2000/svg\" height=\"24px\"viewBox=\"0 0 24 24\"\n",
              "       width=\"24px\">\n",
              "    <path d=\"M0 0h24v24H0V0z\" fill=\"none\"/>\n",
              "    <path d=\"M18.56 5.44l.94 2.06.94-2.06 2.06-.94-2.06-.94-.94-2.06-.94 2.06-2.06.94zm-11 1L8.5 8.5l.94-2.06 2.06-.94-2.06-.94L8.5 2.5l-.94 2.06-2.06.94zm10 10l.94 2.06.94-2.06 2.06-.94-2.06-.94-.94-2.06-.94 2.06-2.06.94z\"/><path d=\"M17.41 7.96l-1.37-1.37c-.4-.4-.92-.59-1.43-.59-.52 0-1.04.2-1.43.59L10.3 9.45l-7.72 7.72c-.78.78-.78 2.05 0 2.83L4 21.41c.39.39.9.59 1.41.59.51 0 1.02-.2 1.41-.59l7.78-7.78 2.81-2.81c.8-.78.8-2.07 0-2.86zM5.41 20L4 18.59l7.72-7.72 1.47 1.35L5.41 20z\"/>\n",
              "  </svg>\n",
              "      </button>\n",
              "      \n",
              "  <style>\n",
              "    .colab-df-container {\n",
              "      display:flex;\n",
              "      flex-wrap:wrap;\n",
              "      gap: 12px;\n",
              "    }\n",
              "\n",
              "    .colab-df-convert {\n",
              "      background-color: #E8F0FE;\n",
              "      border: none;\n",
              "      border-radius: 50%;\n",
              "      cursor: pointer;\n",
              "      display: none;\n",
              "      fill: #1967D2;\n",
              "      height: 32px;\n",
              "      padding: 0 0 0 0;\n",
              "      width: 32px;\n",
              "    }\n",
              "\n",
              "    .colab-df-convert:hover {\n",
              "      background-color: #E2EBFA;\n",
              "      box-shadow: 0px 1px 2px rgba(60, 64, 67, 0.3), 0px 1px 3px 1px rgba(60, 64, 67, 0.15);\n",
              "      fill: #174EA6;\n",
              "    }\n",
              "\n",
              "    [theme=dark] .colab-df-convert {\n",
              "      background-color: #3B4455;\n",
              "      fill: #D2E3FC;\n",
              "    }\n",
              "\n",
              "    [theme=dark] .colab-df-convert:hover {\n",
              "      background-color: #434B5C;\n",
              "      box-shadow: 0px 1px 3px 1px rgba(0, 0, 0, 0.15);\n",
              "      filter: drop-shadow(0px 1px 2px rgba(0, 0, 0, 0.3));\n",
              "      fill: #FFFFFF;\n",
              "    }\n",
              "  </style>\n",
              "\n",
              "      <script>\n",
              "        const buttonEl =\n",
              "          document.querySelector('#df-893a7c7c-9594-439e-80e6-99759ab39d86 button.colab-df-convert');\n",
              "        buttonEl.style.display =\n",
              "          google.colab.kernel.accessAllowed ? 'block' : 'none';\n",
              "\n",
              "        async function convertToInteractive(key) {\n",
              "          const element = document.querySelector('#df-893a7c7c-9594-439e-80e6-99759ab39d86');\n",
              "          const dataTable =\n",
              "            await google.colab.kernel.invokeFunction('convertToInteractive',\n",
              "                                                     [key], {});\n",
              "          if (!dataTable) return;\n",
              "\n",
              "          const docLinkHtml = 'Like what you see? Visit the ' +\n",
              "            '<a target=\"_blank\" href=https://colab.research.google.com/notebooks/data_table.ipynb>data table notebook</a>'\n",
              "            + ' to learn more about interactive tables.';\n",
              "          element.innerHTML = '';\n",
              "          dataTable['output_type'] = 'display_data';\n",
              "          await google.colab.output.renderOutput(dataTable, element);\n",
              "          const docLink = document.createElement('div');\n",
              "          docLink.innerHTML = docLinkHtml;\n",
              "          element.appendChild(docLink);\n",
              "        }\n",
              "      </script>\n",
              "    </div>\n",
              "  </div>\n",
              "  "
            ],
            "text/plain": [
              "         Date  Time    Size Colour        Cost  Label\n",
              "0  2020-10-16  11.0   Small   Blue  109.521068      1\n",
              "6  2020-10-18   9.0   Small   Blue  107.947930      1\n",
              "9  2020-10-18  15.0   Small   Blue  103.223563      1\n",
              "11 2020-10-19   9.0  Medium   Blue  105.216665      1\n",
              "13 2020-10-19  13.0   Large   Blue   15.599248      0\n",
              "16 2020-10-20   NaN   Large   Blue  113.658567      1\n",
              "18 2020-10-23  11.0  Medium   Blue    3.643787      0\n",
              "21 2020-10-25   NaN   Large   Blue   10.699388      0\n",
              "24 2020-10-26  13.0   Small   Blue    1.228235      0\n",
              "27 2020-10-28  13.0   Large   Blue   12.414377      0\n",
              "29 2020-10-30  13.0   Small   Blue  115.410273      1"
            ]
          },
          "metadata": {},
          "execution_count": 111
        }
      ],
      "source": [
        "data[data[\"Colour\"] == 'Blue']"
      ]
    },
    {
      "cell_type": "markdown",
      "metadata": {
        "id": "4SHVTbrBxTMC"
      },
      "source": [
        "Now let's select the first five rows."
      ]
    },
    {
      "cell_type": "code",
      "execution_count": 112,
      "metadata": {
        "colab": {
          "base_uri": "https://localhost:8080/",
          "height": 206
        },
        "id": "r1DK6FIKxTMC",
        "outputId": "4cfa8138-caf0-495b-e94e-d3ba92504018"
      },
      "outputs": [
        {
          "output_type": "execute_result",
          "data": {
            "text/html": [
              "\n",
              "  <div id=\"df-52c036d2-7689-4846-b7c3-84b39dbcc8bd\">\n",
              "    <div class=\"colab-df-container\">\n",
              "      <div>\n",
              "<style scoped>\n",
              "    .dataframe tbody tr th:only-of-type {\n",
              "        vertical-align: middle;\n",
              "    }\n",
              "\n",
              "    .dataframe tbody tr th {\n",
              "        vertical-align: top;\n",
              "    }\n",
              "\n",
              "    .dataframe thead th {\n",
              "        text-align: right;\n",
              "    }\n",
              "</style>\n",
              "<table border=\"1\" class=\"dataframe\">\n",
              "  <thead>\n",
              "    <tr style=\"text-align: right;\">\n",
              "      <th></th>\n",
              "      <th>Date</th>\n",
              "      <th>Time</th>\n",
              "      <th>Size</th>\n",
              "      <th>Colour</th>\n",
              "      <th>Cost</th>\n",
              "      <th>Label</th>\n",
              "    </tr>\n",
              "  </thead>\n",
              "  <tbody>\n",
              "    <tr>\n",
              "      <th>0</th>\n",
              "      <td>2020-10-16</td>\n",
              "      <td>11.0</td>\n",
              "      <td>Small</td>\n",
              "      <td>Blue</td>\n",
              "      <td>109.521068</td>\n",
              "      <td>1</td>\n",
              "    </tr>\n",
              "    <tr>\n",
              "      <th>1</th>\n",
              "      <td>2020-10-16</td>\n",
              "      <td>13.0</td>\n",
              "      <td>Small</td>\n",
              "      <td>Red</td>\n",
              "      <td>112.141170</td>\n",
              "      <td>1</td>\n",
              "    </tr>\n",
              "    <tr>\n",
              "      <th>2</th>\n",
              "      <td>2020-10-16</td>\n",
              "      <td>17.0</td>\n",
              "      <td>Medium</td>\n",
              "      <td>Green</td>\n",
              "      <td>112.004677</td>\n",
              "      <td>1</td>\n",
              "    </tr>\n",
              "    <tr>\n",
              "      <th>3</th>\n",
              "      <td>2020-10-17</td>\n",
              "      <td>9.0</td>\n",
              "      <td>Large</td>\n",
              "      <td>Green</td>\n",
              "      <td>15.112922</td>\n",
              "      <td>0</td>\n",
              "    </tr>\n",
              "    <tr>\n",
              "      <th>4</th>\n",
              "      <td>2020-10-17</td>\n",
              "      <td>11.0</td>\n",
              "      <td>Large</td>\n",
              "      <td>Green</td>\n",
              "      <td>105.663642</td>\n",
              "      <td>1</td>\n",
              "    </tr>\n",
              "  </tbody>\n",
              "</table>\n",
              "</div>\n",
              "      <button class=\"colab-df-convert\" onclick=\"convertToInteractive('df-52c036d2-7689-4846-b7c3-84b39dbcc8bd')\"\n",
              "              title=\"Convert this dataframe to an interactive table.\"\n",
              "              style=\"display:none;\">\n",
              "        \n",
              "  <svg xmlns=\"http://www.w3.org/2000/svg\" height=\"24px\"viewBox=\"0 0 24 24\"\n",
              "       width=\"24px\">\n",
              "    <path d=\"M0 0h24v24H0V0z\" fill=\"none\"/>\n",
              "    <path d=\"M18.56 5.44l.94 2.06.94-2.06 2.06-.94-2.06-.94-.94-2.06-.94 2.06-2.06.94zm-11 1L8.5 8.5l.94-2.06 2.06-.94-2.06-.94L8.5 2.5l-.94 2.06-2.06.94zm10 10l.94 2.06.94-2.06 2.06-.94-2.06-.94-.94-2.06-.94 2.06-2.06.94z\"/><path d=\"M17.41 7.96l-1.37-1.37c-.4-.4-.92-.59-1.43-.59-.52 0-1.04.2-1.43.59L10.3 9.45l-7.72 7.72c-.78.78-.78 2.05 0 2.83L4 21.41c.39.39.9.59 1.41.59.51 0 1.02-.2 1.41-.59l7.78-7.78 2.81-2.81c.8-.78.8-2.07 0-2.86zM5.41 20L4 18.59l7.72-7.72 1.47 1.35L5.41 20z\"/>\n",
              "  </svg>\n",
              "      </button>\n",
              "      \n",
              "  <style>\n",
              "    .colab-df-container {\n",
              "      display:flex;\n",
              "      flex-wrap:wrap;\n",
              "      gap: 12px;\n",
              "    }\n",
              "\n",
              "    .colab-df-convert {\n",
              "      background-color: #E8F0FE;\n",
              "      border: none;\n",
              "      border-radius: 50%;\n",
              "      cursor: pointer;\n",
              "      display: none;\n",
              "      fill: #1967D2;\n",
              "      height: 32px;\n",
              "      padding: 0 0 0 0;\n",
              "      width: 32px;\n",
              "    }\n",
              "\n",
              "    .colab-df-convert:hover {\n",
              "      background-color: #E2EBFA;\n",
              "      box-shadow: 0px 1px 2px rgba(60, 64, 67, 0.3), 0px 1px 3px 1px rgba(60, 64, 67, 0.15);\n",
              "      fill: #174EA6;\n",
              "    }\n",
              "\n",
              "    [theme=dark] .colab-df-convert {\n",
              "      background-color: #3B4455;\n",
              "      fill: #D2E3FC;\n",
              "    }\n",
              "\n",
              "    [theme=dark] .colab-df-convert:hover {\n",
              "      background-color: #434B5C;\n",
              "      box-shadow: 0px 1px 3px 1px rgba(0, 0, 0, 0.15);\n",
              "      filter: drop-shadow(0px 1px 2px rgba(0, 0, 0, 0.3));\n",
              "      fill: #FFFFFF;\n",
              "    }\n",
              "  </style>\n",
              "\n",
              "      <script>\n",
              "        const buttonEl =\n",
              "          document.querySelector('#df-52c036d2-7689-4846-b7c3-84b39dbcc8bd button.colab-df-convert');\n",
              "        buttonEl.style.display =\n",
              "          google.colab.kernel.accessAllowed ? 'block' : 'none';\n",
              "\n",
              "        async function convertToInteractive(key) {\n",
              "          const element = document.querySelector('#df-52c036d2-7689-4846-b7c3-84b39dbcc8bd');\n",
              "          const dataTable =\n",
              "            await google.colab.kernel.invokeFunction('convertToInteractive',\n",
              "                                                     [key], {});\n",
              "          if (!dataTable) return;\n",
              "\n",
              "          const docLinkHtml = 'Like what you see? Visit the ' +\n",
              "            '<a target=\"_blank\" href=https://colab.research.google.com/notebooks/data_table.ipynb>data table notebook</a>'\n",
              "            + ' to learn more about interactive tables.';\n",
              "          element.innerHTML = '';\n",
              "          dataTable['output_type'] = 'display_data';\n",
              "          await google.colab.output.renderOutput(dataTable, element);\n",
              "          const docLink = document.createElement('div');\n",
              "          docLink.innerHTML = docLinkHtml;\n",
              "          element.appendChild(docLink);\n",
              "        }\n",
              "      </script>\n",
              "    </div>\n",
              "  </div>\n",
              "  "
            ],
            "text/plain": [
              "        Date  Time    Size Colour        Cost  Label\n",
              "0 2020-10-16  11.0   Small   Blue  109.521068      1\n",
              "1 2020-10-16  13.0   Small    Red  112.141170      1\n",
              "2 2020-10-16  17.0  Medium  Green  112.004677      1\n",
              "3 2020-10-17   9.0   Large  Green   15.112922      0\n",
              "4 2020-10-17  11.0   Large  Green  105.663642      1"
            ]
          },
          "metadata": {},
          "execution_count": 112
        }
      ],
      "source": [
        "data.iloc[:5,:]"
      ]
    },
    {
      "cell_type": "markdown",
      "metadata": {
        "id": "gmUIYPfZxTMC"
      },
      "source": [
        "Pandas is a really powerful tool but in the interest iof time we are not going to explain it further. However you can visit the [tutorials](https://pandas.pydata.org/docs/getting_started/index.html) to learn more about it."
      ]
    },
    {
      "cell_type": "markdown",
      "metadata": {
        "id": "gkFSdTSNxTMC"
      },
      "source": [
        "## Prepare the data"
      ]
    },
    {
      "cell_type": "markdown",
      "metadata": {
        "id": "_KJxeUb9xTMD"
      },
      "source": [
        "Now that we have the data in the dataframe we are going to treat it to transform it into numerical values in a numpy array as it is easier to work with.\n",
        "There are mainly two types of data that may be necessary to transform: dates and categorical values.\n",
        "We can see what type of data we have on our dataframe:"
      ]
    },
    {
      "cell_type": "code",
      "execution_count": 113,
      "metadata": {
        "colab": {
          "base_uri": "https://localhost:8080/"
        },
        "id": "iPGd03wWxTMD",
        "outputId": "2b108028-b727-42da-df55-85dcf90cea5f"
      },
      "outputs": [
        {
          "output_type": "execute_result",
          "data": {
            "text/plain": [
              "Date      datetime64[ns]\n",
              "Time             float64\n",
              "Size              object\n",
              "Colour            object\n",
              "Cost             float64\n",
              "Label              int64\n",
              "dtype: object"
            ]
          },
          "metadata": {},
          "execution_count": 113
        }
      ],
      "source": [
        "data.dtypes"
      ]
    },
    {
      "cell_type": "markdown",
      "metadata": {
        "id": "ETGjM03kxTMD"
      },
      "source": [
        "(Note that the methods we see in this section replace non-numerical values with floating point numbers _in place_, so if you run them again you will get an error since the column does not contain the expected type anymore.)"
      ]
    },
    {
      "cell_type": "markdown",
      "metadata": {
        "id": "ZV1Ol4cjxTME"
      },
      "source": [
        "### Dates"
      ]
    },
    {
      "cell_type": "markdown",
      "metadata": {
        "id": "oYmY4O2yxTME"
      },
      "source": [
        "To transform the data, a standard procedure is to change the date for the time that has passed since a specific time. This is as simple as:"
      ]
    },
    {
      "cell_type": "code",
      "execution_count": 114,
      "metadata": {
        "colab": {
          "base_uri": "https://localhost:8080/",
          "height": 206
        },
        "id": "K24i0g4fxTME",
        "outputId": "881f070c-7000-41f7-8d17-696f5e266e4e"
      },
      "outputs": [
        {
          "output_type": "execute_result",
          "data": {
            "text/html": [
              "\n",
              "  <div id=\"df-997e9b59-8610-4228-a344-f44255c3cb2b\">\n",
              "    <div class=\"colab-df-container\">\n",
              "      <div>\n",
              "<style scoped>\n",
              "    .dataframe tbody tr th:only-of-type {\n",
              "        vertical-align: middle;\n",
              "    }\n",
              "\n",
              "    .dataframe tbody tr th {\n",
              "        vertical-align: top;\n",
              "    }\n",
              "\n",
              "    .dataframe thead th {\n",
              "        text-align: right;\n",
              "    }\n",
              "</style>\n",
              "<table border=\"1\" class=\"dataframe\">\n",
              "  <thead>\n",
              "    <tr style=\"text-align: right;\">\n",
              "      <th></th>\n",
              "      <th>Date</th>\n",
              "      <th>Time</th>\n",
              "      <th>Size</th>\n",
              "      <th>Colour</th>\n",
              "      <th>Cost</th>\n",
              "      <th>Label</th>\n",
              "    </tr>\n",
              "  </thead>\n",
              "  <tbody>\n",
              "    <tr>\n",
              "      <th>0</th>\n",
              "      <td>6.566400e+15</td>\n",
              "      <td>11.0</td>\n",
              "      <td>Small</td>\n",
              "      <td>Blue</td>\n",
              "      <td>109.521068</td>\n",
              "      <td>1</td>\n",
              "    </tr>\n",
              "    <tr>\n",
              "      <th>1</th>\n",
              "      <td>6.566400e+15</td>\n",
              "      <td>13.0</td>\n",
              "      <td>Small</td>\n",
              "      <td>Red</td>\n",
              "      <td>112.141170</td>\n",
              "      <td>1</td>\n",
              "    </tr>\n",
              "    <tr>\n",
              "      <th>2</th>\n",
              "      <td>6.566400e+15</td>\n",
              "      <td>17.0</td>\n",
              "      <td>Medium</td>\n",
              "      <td>Green</td>\n",
              "      <td>112.004677</td>\n",
              "      <td>1</td>\n",
              "    </tr>\n",
              "    <tr>\n",
              "      <th>3</th>\n",
              "      <td>6.652800e+15</td>\n",
              "      <td>9.0</td>\n",
              "      <td>Large</td>\n",
              "      <td>Green</td>\n",
              "      <td>15.112922</td>\n",
              "      <td>0</td>\n",
              "    </tr>\n",
              "    <tr>\n",
              "      <th>4</th>\n",
              "      <td>6.652800e+15</td>\n",
              "      <td>11.0</td>\n",
              "      <td>Large</td>\n",
              "      <td>Green</td>\n",
              "      <td>105.663642</td>\n",
              "      <td>1</td>\n",
              "    </tr>\n",
              "  </tbody>\n",
              "</table>\n",
              "</div>\n",
              "      <button class=\"colab-df-convert\" onclick=\"convertToInteractive('df-997e9b59-8610-4228-a344-f44255c3cb2b')\"\n",
              "              title=\"Convert this dataframe to an interactive table.\"\n",
              "              style=\"display:none;\">\n",
              "        \n",
              "  <svg xmlns=\"http://www.w3.org/2000/svg\" height=\"24px\"viewBox=\"0 0 24 24\"\n",
              "       width=\"24px\">\n",
              "    <path d=\"M0 0h24v24H0V0z\" fill=\"none\"/>\n",
              "    <path d=\"M18.56 5.44l.94 2.06.94-2.06 2.06-.94-2.06-.94-.94-2.06-.94 2.06-2.06.94zm-11 1L8.5 8.5l.94-2.06 2.06-.94-2.06-.94L8.5 2.5l-.94 2.06-2.06.94zm10 10l.94 2.06.94-2.06 2.06-.94-2.06-.94-.94-2.06-.94 2.06-2.06.94z\"/><path d=\"M17.41 7.96l-1.37-1.37c-.4-.4-.92-.59-1.43-.59-.52 0-1.04.2-1.43.59L10.3 9.45l-7.72 7.72c-.78.78-.78 2.05 0 2.83L4 21.41c.39.39.9.59 1.41.59.51 0 1.02-.2 1.41-.59l7.78-7.78 2.81-2.81c.8-.78.8-2.07 0-2.86zM5.41 20L4 18.59l7.72-7.72 1.47 1.35L5.41 20z\"/>\n",
              "  </svg>\n",
              "      </button>\n",
              "      \n",
              "  <style>\n",
              "    .colab-df-container {\n",
              "      display:flex;\n",
              "      flex-wrap:wrap;\n",
              "      gap: 12px;\n",
              "    }\n",
              "\n",
              "    .colab-df-convert {\n",
              "      background-color: #E8F0FE;\n",
              "      border: none;\n",
              "      border-radius: 50%;\n",
              "      cursor: pointer;\n",
              "      display: none;\n",
              "      fill: #1967D2;\n",
              "      height: 32px;\n",
              "      padding: 0 0 0 0;\n",
              "      width: 32px;\n",
              "    }\n",
              "\n",
              "    .colab-df-convert:hover {\n",
              "      background-color: #E2EBFA;\n",
              "      box-shadow: 0px 1px 2px rgba(60, 64, 67, 0.3), 0px 1px 3px 1px rgba(60, 64, 67, 0.15);\n",
              "      fill: #174EA6;\n",
              "    }\n",
              "\n",
              "    [theme=dark] .colab-df-convert {\n",
              "      background-color: #3B4455;\n",
              "      fill: #D2E3FC;\n",
              "    }\n",
              "\n",
              "    [theme=dark] .colab-df-convert:hover {\n",
              "      background-color: #434B5C;\n",
              "      box-shadow: 0px 1px 3px 1px rgba(0, 0, 0, 0.15);\n",
              "      filter: drop-shadow(0px 1px 2px rgba(0, 0, 0, 0.3));\n",
              "      fill: #FFFFFF;\n",
              "    }\n",
              "  </style>\n",
              "\n",
              "      <script>\n",
              "        const buttonEl =\n",
              "          document.querySelector('#df-997e9b59-8610-4228-a344-f44255c3cb2b button.colab-df-convert');\n",
              "        buttonEl.style.display =\n",
              "          google.colab.kernel.accessAllowed ? 'block' : 'none';\n",
              "\n",
              "        async function convertToInteractive(key) {\n",
              "          const element = document.querySelector('#df-997e9b59-8610-4228-a344-f44255c3cb2b');\n",
              "          const dataTable =\n",
              "            await google.colab.kernel.invokeFunction('convertToInteractive',\n",
              "                                                     [key], {});\n",
              "          if (!dataTable) return;\n",
              "\n",
              "          const docLinkHtml = 'Like what you see? Visit the ' +\n",
              "            '<a target=\"_blank\" href=https://colab.research.google.com/notebooks/data_table.ipynb>data table notebook</a>'\n",
              "            + ' to learn more about interactive tables.';\n",
              "          element.innerHTML = '';\n",
              "          dataTable['output_type'] = 'display_data';\n",
              "          await google.colab.output.renderOutput(dataTable, element);\n",
              "          const docLink = document.createElement('div');\n",
              "          docLink.innerHTML = docLinkHtml;\n",
              "          element.appendChild(docLink);\n",
              "        }\n",
              "      </script>\n",
              "    </div>\n",
              "  </div>\n",
              "  "
            ],
            "text/plain": [
              "           Date  Time    Size Colour        Cost  Label\n",
              "0  6.566400e+15  11.0   Small   Blue  109.521068      1\n",
              "1  6.566400e+15  13.0   Small    Red  112.141170      1\n",
              "2  6.566400e+15  17.0  Medium  Green  112.004677      1\n",
              "3  6.652800e+15   9.0   Large  Green   15.112922      0\n",
              "4  6.652800e+15  11.0   Large  Green  105.663642      1"
            ]
          },
          "metadata": {},
          "execution_count": 114
        }
      ],
      "source": [
        "time0 = pd.Timestamp('2020-08-01 00:00:00')\n",
        "data['Date'] = (data['Date'] - time0).values.astype(float)\n",
        "data.head()"
      ]
    },
    {
      "cell_type": "markdown",
      "metadata": {
        "id": "p232YnUQxTME"
      },
      "source": [
        "### Categorical values"
      ]
    },
    {
      "cell_type": "markdown",
      "metadata": {
        "id": "evU5IlQLxTMF"
      },
      "source": [
        "Categorical values are non numerical values that may have or not an ordinal relationship. If they have an ordinal relationship (for example: low, mid, high or small, big), the best practice is to transform directly to numerical value respecting the order."
      ]
    },
    {
      "cell_type": "markdown",
      "metadata": {
        "id": "r397s8AYxTMF"
      },
      "source": [
        "Pandas allows use to do this using a dictionary and the method `replace`."
      ]
    },
    {
      "cell_type": "code",
      "execution_count": 115,
      "metadata": {
        "colab": {
          "base_uri": "https://localhost:8080/",
          "height": 206
        },
        "id": "ua_irWGixTMF",
        "outputId": "23866725-5e19-42b7-f66b-2f375f7c9413"
      },
      "outputs": [
        {
          "output_type": "execute_result",
          "data": {
            "text/html": [
              "\n",
              "  <div id=\"df-bbaa5ba1-d8e2-4842-b4db-d1d9d3696410\">\n",
              "    <div class=\"colab-df-container\">\n",
              "      <div>\n",
              "<style scoped>\n",
              "    .dataframe tbody tr th:only-of-type {\n",
              "        vertical-align: middle;\n",
              "    }\n",
              "\n",
              "    .dataframe tbody tr th {\n",
              "        vertical-align: top;\n",
              "    }\n",
              "\n",
              "    .dataframe thead th {\n",
              "        text-align: right;\n",
              "    }\n",
              "</style>\n",
              "<table border=\"1\" class=\"dataframe\">\n",
              "  <thead>\n",
              "    <tr style=\"text-align: right;\">\n",
              "      <th></th>\n",
              "      <th>Date</th>\n",
              "      <th>Time</th>\n",
              "      <th>Size</th>\n",
              "      <th>Colour</th>\n",
              "      <th>Cost</th>\n",
              "      <th>Label</th>\n",
              "    </tr>\n",
              "  </thead>\n",
              "  <tbody>\n",
              "    <tr>\n",
              "      <th>0</th>\n",
              "      <td>6.566400e+15</td>\n",
              "      <td>11.0</td>\n",
              "      <td>0</td>\n",
              "      <td>Blue</td>\n",
              "      <td>109.521068</td>\n",
              "      <td>1</td>\n",
              "    </tr>\n",
              "    <tr>\n",
              "      <th>1</th>\n",
              "      <td>6.566400e+15</td>\n",
              "      <td>13.0</td>\n",
              "      <td>0</td>\n",
              "      <td>Red</td>\n",
              "      <td>112.141170</td>\n",
              "      <td>1</td>\n",
              "    </tr>\n",
              "    <tr>\n",
              "      <th>2</th>\n",
              "      <td>6.566400e+15</td>\n",
              "      <td>17.0</td>\n",
              "      <td>1</td>\n",
              "      <td>Green</td>\n",
              "      <td>112.004677</td>\n",
              "      <td>1</td>\n",
              "    </tr>\n",
              "    <tr>\n",
              "      <th>3</th>\n",
              "      <td>6.652800e+15</td>\n",
              "      <td>9.0</td>\n",
              "      <td>2</td>\n",
              "      <td>Green</td>\n",
              "      <td>15.112922</td>\n",
              "      <td>0</td>\n",
              "    </tr>\n",
              "    <tr>\n",
              "      <th>4</th>\n",
              "      <td>6.652800e+15</td>\n",
              "      <td>11.0</td>\n",
              "      <td>2</td>\n",
              "      <td>Green</td>\n",
              "      <td>105.663642</td>\n",
              "      <td>1</td>\n",
              "    </tr>\n",
              "  </tbody>\n",
              "</table>\n",
              "</div>\n",
              "      <button class=\"colab-df-convert\" onclick=\"convertToInteractive('df-bbaa5ba1-d8e2-4842-b4db-d1d9d3696410')\"\n",
              "              title=\"Convert this dataframe to an interactive table.\"\n",
              "              style=\"display:none;\">\n",
              "        \n",
              "  <svg xmlns=\"http://www.w3.org/2000/svg\" height=\"24px\"viewBox=\"0 0 24 24\"\n",
              "       width=\"24px\">\n",
              "    <path d=\"M0 0h24v24H0V0z\" fill=\"none\"/>\n",
              "    <path d=\"M18.56 5.44l.94 2.06.94-2.06 2.06-.94-2.06-.94-.94-2.06-.94 2.06-2.06.94zm-11 1L8.5 8.5l.94-2.06 2.06-.94-2.06-.94L8.5 2.5l-.94 2.06-2.06.94zm10 10l.94 2.06.94-2.06 2.06-.94-2.06-.94-.94-2.06-.94 2.06-2.06.94z\"/><path d=\"M17.41 7.96l-1.37-1.37c-.4-.4-.92-.59-1.43-.59-.52 0-1.04.2-1.43.59L10.3 9.45l-7.72 7.72c-.78.78-.78 2.05 0 2.83L4 21.41c.39.39.9.59 1.41.59.51 0 1.02-.2 1.41-.59l7.78-7.78 2.81-2.81c.8-.78.8-2.07 0-2.86zM5.41 20L4 18.59l7.72-7.72 1.47 1.35L5.41 20z\"/>\n",
              "  </svg>\n",
              "      </button>\n",
              "      \n",
              "  <style>\n",
              "    .colab-df-container {\n",
              "      display:flex;\n",
              "      flex-wrap:wrap;\n",
              "      gap: 12px;\n",
              "    }\n",
              "\n",
              "    .colab-df-convert {\n",
              "      background-color: #E8F0FE;\n",
              "      border: none;\n",
              "      border-radius: 50%;\n",
              "      cursor: pointer;\n",
              "      display: none;\n",
              "      fill: #1967D2;\n",
              "      height: 32px;\n",
              "      padding: 0 0 0 0;\n",
              "      width: 32px;\n",
              "    }\n",
              "\n",
              "    .colab-df-convert:hover {\n",
              "      background-color: #E2EBFA;\n",
              "      box-shadow: 0px 1px 2px rgba(60, 64, 67, 0.3), 0px 1px 3px 1px rgba(60, 64, 67, 0.15);\n",
              "      fill: #174EA6;\n",
              "    }\n",
              "\n",
              "    [theme=dark] .colab-df-convert {\n",
              "      background-color: #3B4455;\n",
              "      fill: #D2E3FC;\n",
              "    }\n",
              "\n",
              "    [theme=dark] .colab-df-convert:hover {\n",
              "      background-color: #434B5C;\n",
              "      box-shadow: 0px 1px 3px 1px rgba(0, 0, 0, 0.15);\n",
              "      filter: drop-shadow(0px 1px 2px rgba(0, 0, 0, 0.3));\n",
              "      fill: #FFFFFF;\n",
              "    }\n",
              "  </style>\n",
              "\n",
              "      <script>\n",
              "        const buttonEl =\n",
              "          document.querySelector('#df-bbaa5ba1-d8e2-4842-b4db-d1d9d3696410 button.colab-df-convert');\n",
              "        buttonEl.style.display =\n",
              "          google.colab.kernel.accessAllowed ? 'block' : 'none';\n",
              "\n",
              "        async function convertToInteractive(key) {\n",
              "          const element = document.querySelector('#df-bbaa5ba1-d8e2-4842-b4db-d1d9d3696410');\n",
              "          const dataTable =\n",
              "            await google.colab.kernel.invokeFunction('convertToInteractive',\n",
              "                                                     [key], {});\n",
              "          if (!dataTable) return;\n",
              "\n",
              "          const docLinkHtml = 'Like what you see? Visit the ' +\n",
              "            '<a target=\"_blank\" href=https://colab.research.google.com/notebooks/data_table.ipynb>data table notebook</a>'\n",
              "            + ' to learn more about interactive tables.';\n",
              "          element.innerHTML = '';\n",
              "          dataTable['output_type'] = 'display_data';\n",
              "          await google.colab.output.renderOutput(dataTable, element);\n",
              "          const docLink = document.createElement('div');\n",
              "          docLink.innerHTML = docLinkHtml;\n",
              "          element.appendChild(docLink);\n",
              "        }\n",
              "      </script>\n",
              "    </div>\n",
              "  </div>\n",
              "  "
            ],
            "text/plain": [
              "           Date  Time  Size Colour        Cost  Label\n",
              "0  6.566400e+15  11.0     0   Blue  109.521068      1\n",
              "1  6.566400e+15  13.0     0    Red  112.141170      1\n",
              "2  6.566400e+15  17.0     1  Green  112.004677      1\n",
              "3  6.652800e+15   9.0     2  Green   15.112922      0\n",
              "4  6.652800e+15  11.0     2  Green  105.663642      1"
            ]
          },
          "metadata": {},
          "execution_count": 115
        }
      ],
      "source": [
        "cleanup = {\"Size\": {\"Small\":0, \"Medium\":1, \"Large\":2}}\n",
        "data.replace(cleanup, inplace=True)\n",
        "data.head()"
      ]
    },
    {
      "cell_type": "markdown",
      "metadata": {
        "id": "8h9ZmhH-xTMF"
      },
      "source": [
        "This method should not be used with categorical values with no ordinal relationship, for example the colour. Is red bigger than blue?\n",
        "\n",
        "\n",
        "If we treat them as having ordinal relationship some algorithms, such as Decission Trees, may be unaffected by this. However, most algorithms will suffer (in terms of accuracy) when using this practice.\n",
        "The 'proper' way to deal with this values is to create a number of variables equal to the the number of different values that the categorical value may take, and then set all to 0 except for one that will set to 1. This is called 'one-hot' encoding. In our case it would be somthing like:\n",
        "\n",
        "Red -> \\[0, 0, 1\\]\n",
        "\n",
        "Blue -> \\[1, 0, 0\\]\n",
        "\n",
        "Green -> \\[0, 1, 0\\]\n",
        "\n",
        "Fortunately, pandas makes this easy with the method `get_dummies`."
      ]
    },
    {
      "cell_type": "code",
      "execution_count": 116,
      "metadata": {
        "colab": {
          "base_uri": "https://localhost:8080/",
          "height": 206
        },
        "id": "g1Mv9vhTxTMF",
        "outputId": "b1d865df-552e-4d1b-8151-57edf1d67451"
      },
      "outputs": [
        {
          "output_type": "execute_result",
          "data": {
            "text/html": [
              "\n",
              "  <div id=\"df-b82f3804-5dbe-4306-8001-97d0fc6f5ea3\">\n",
              "    <div class=\"colab-df-container\">\n",
              "      <div>\n",
              "<style scoped>\n",
              "    .dataframe tbody tr th:only-of-type {\n",
              "        vertical-align: middle;\n",
              "    }\n",
              "\n",
              "    .dataframe tbody tr th {\n",
              "        vertical-align: top;\n",
              "    }\n",
              "\n",
              "    .dataframe thead th {\n",
              "        text-align: right;\n",
              "    }\n",
              "</style>\n",
              "<table border=\"1\" class=\"dataframe\">\n",
              "  <thead>\n",
              "    <tr style=\"text-align: right;\">\n",
              "      <th></th>\n",
              "      <th>Date</th>\n",
              "      <th>Time</th>\n",
              "      <th>Size</th>\n",
              "      <th>Cost</th>\n",
              "      <th>Label</th>\n",
              "      <th>Colour_Blue</th>\n",
              "      <th>Colour_Green</th>\n",
              "      <th>Colour_Red</th>\n",
              "    </tr>\n",
              "  </thead>\n",
              "  <tbody>\n",
              "    <tr>\n",
              "      <th>0</th>\n",
              "      <td>6.566400e+15</td>\n",
              "      <td>11.0</td>\n",
              "      <td>0</td>\n",
              "      <td>109.521068</td>\n",
              "      <td>1</td>\n",
              "      <td>1</td>\n",
              "      <td>0</td>\n",
              "      <td>0</td>\n",
              "    </tr>\n",
              "    <tr>\n",
              "      <th>1</th>\n",
              "      <td>6.566400e+15</td>\n",
              "      <td>13.0</td>\n",
              "      <td>0</td>\n",
              "      <td>112.141170</td>\n",
              "      <td>1</td>\n",
              "      <td>0</td>\n",
              "      <td>0</td>\n",
              "      <td>1</td>\n",
              "    </tr>\n",
              "    <tr>\n",
              "      <th>2</th>\n",
              "      <td>6.566400e+15</td>\n",
              "      <td>17.0</td>\n",
              "      <td>1</td>\n",
              "      <td>112.004677</td>\n",
              "      <td>1</td>\n",
              "      <td>0</td>\n",
              "      <td>1</td>\n",
              "      <td>0</td>\n",
              "    </tr>\n",
              "    <tr>\n",
              "      <th>3</th>\n",
              "      <td>6.652800e+15</td>\n",
              "      <td>9.0</td>\n",
              "      <td>2</td>\n",
              "      <td>15.112922</td>\n",
              "      <td>0</td>\n",
              "      <td>0</td>\n",
              "      <td>1</td>\n",
              "      <td>0</td>\n",
              "    </tr>\n",
              "    <tr>\n",
              "      <th>4</th>\n",
              "      <td>6.652800e+15</td>\n",
              "      <td>11.0</td>\n",
              "      <td>2</td>\n",
              "      <td>105.663642</td>\n",
              "      <td>1</td>\n",
              "      <td>0</td>\n",
              "      <td>1</td>\n",
              "      <td>0</td>\n",
              "    </tr>\n",
              "  </tbody>\n",
              "</table>\n",
              "</div>\n",
              "      <button class=\"colab-df-convert\" onclick=\"convertToInteractive('df-b82f3804-5dbe-4306-8001-97d0fc6f5ea3')\"\n",
              "              title=\"Convert this dataframe to an interactive table.\"\n",
              "              style=\"display:none;\">\n",
              "        \n",
              "  <svg xmlns=\"http://www.w3.org/2000/svg\" height=\"24px\"viewBox=\"0 0 24 24\"\n",
              "       width=\"24px\">\n",
              "    <path d=\"M0 0h24v24H0V0z\" fill=\"none\"/>\n",
              "    <path d=\"M18.56 5.44l.94 2.06.94-2.06 2.06-.94-2.06-.94-.94-2.06-.94 2.06-2.06.94zm-11 1L8.5 8.5l.94-2.06 2.06-.94-2.06-.94L8.5 2.5l-.94 2.06-2.06.94zm10 10l.94 2.06.94-2.06 2.06-.94-2.06-.94-.94-2.06-.94 2.06-2.06.94z\"/><path d=\"M17.41 7.96l-1.37-1.37c-.4-.4-.92-.59-1.43-.59-.52 0-1.04.2-1.43.59L10.3 9.45l-7.72 7.72c-.78.78-.78 2.05 0 2.83L4 21.41c.39.39.9.59 1.41.59.51 0 1.02-.2 1.41-.59l7.78-7.78 2.81-2.81c.8-.78.8-2.07 0-2.86zM5.41 20L4 18.59l7.72-7.72 1.47 1.35L5.41 20z\"/>\n",
              "  </svg>\n",
              "      </button>\n",
              "      \n",
              "  <style>\n",
              "    .colab-df-container {\n",
              "      display:flex;\n",
              "      flex-wrap:wrap;\n",
              "      gap: 12px;\n",
              "    }\n",
              "\n",
              "    .colab-df-convert {\n",
              "      background-color: #E8F0FE;\n",
              "      border: none;\n",
              "      border-radius: 50%;\n",
              "      cursor: pointer;\n",
              "      display: none;\n",
              "      fill: #1967D2;\n",
              "      height: 32px;\n",
              "      padding: 0 0 0 0;\n",
              "      width: 32px;\n",
              "    }\n",
              "\n",
              "    .colab-df-convert:hover {\n",
              "      background-color: #E2EBFA;\n",
              "      box-shadow: 0px 1px 2px rgba(60, 64, 67, 0.3), 0px 1px 3px 1px rgba(60, 64, 67, 0.15);\n",
              "      fill: #174EA6;\n",
              "    }\n",
              "\n",
              "    [theme=dark] .colab-df-convert {\n",
              "      background-color: #3B4455;\n",
              "      fill: #D2E3FC;\n",
              "    }\n",
              "\n",
              "    [theme=dark] .colab-df-convert:hover {\n",
              "      background-color: #434B5C;\n",
              "      box-shadow: 0px 1px 3px 1px rgba(0, 0, 0, 0.15);\n",
              "      filter: drop-shadow(0px 1px 2px rgba(0, 0, 0, 0.3));\n",
              "      fill: #FFFFFF;\n",
              "    }\n",
              "  </style>\n",
              "\n",
              "      <script>\n",
              "        const buttonEl =\n",
              "          document.querySelector('#df-b82f3804-5dbe-4306-8001-97d0fc6f5ea3 button.colab-df-convert');\n",
              "        buttonEl.style.display =\n",
              "          google.colab.kernel.accessAllowed ? 'block' : 'none';\n",
              "\n",
              "        async function convertToInteractive(key) {\n",
              "          const element = document.querySelector('#df-b82f3804-5dbe-4306-8001-97d0fc6f5ea3');\n",
              "          const dataTable =\n",
              "            await google.colab.kernel.invokeFunction('convertToInteractive',\n",
              "                                                     [key], {});\n",
              "          if (!dataTable) return;\n",
              "\n",
              "          const docLinkHtml = 'Like what you see? Visit the ' +\n",
              "            '<a target=\"_blank\" href=https://colab.research.google.com/notebooks/data_table.ipynb>data table notebook</a>'\n",
              "            + ' to learn more about interactive tables.';\n",
              "          element.innerHTML = '';\n",
              "          dataTable['output_type'] = 'display_data';\n",
              "          await google.colab.output.renderOutput(dataTable, element);\n",
              "          const docLink = document.createElement('div');\n",
              "          docLink.innerHTML = docLinkHtml;\n",
              "          element.appendChild(docLink);\n",
              "        }\n",
              "      </script>\n",
              "    </div>\n",
              "  </div>\n",
              "  "
            ],
            "text/plain": [
              "           Date  Time  Size        Cost  Label  Colour_Blue  Colour_Green  \\\n",
              "0  6.566400e+15  11.0     0  109.521068      1            1             0   \n",
              "1  6.566400e+15  13.0     0  112.141170      1            0             0   \n",
              "2  6.566400e+15  17.0     1  112.004677      1            0             1   \n",
              "3  6.652800e+15   9.0     2   15.112922      0            0             1   \n",
              "4  6.652800e+15  11.0     2  105.663642      1            0             1   \n",
              "\n",
              "   Colour_Red  \n",
              "0           0  \n",
              "1           1  \n",
              "2           0  \n",
              "3           0  \n",
              "4           0  "
            ]
          },
          "metadata": {},
          "execution_count": 116
        }
      ],
      "source": [
        "data = pd.get_dummies(data, columns= ['Colour'])\n",
        "data.head()"
      ]
    },
    {
      "cell_type": "markdown",
      "metadata": {
        "id": "S6YuiaWzxTMG"
      },
      "source": [
        "We can now confirm that all columns have been converted to numeric types."
      ]
    },
    {
      "cell_type": "code",
      "execution_count": 117,
      "metadata": {
        "colab": {
          "base_uri": "https://localhost:8080/"
        },
        "id": "ujKwet-AxTMG",
        "outputId": "4a63670f-ed2f-42ce-95c4-1c0fc8274159"
      },
      "outputs": [
        {
          "output_type": "execute_result",
          "data": {
            "text/plain": [
              "Date            float64\n",
              "Time            float64\n",
              "Size              int64\n",
              "Cost            float64\n",
              "Label             int64\n",
              "Colour_Blue       uint8\n",
              "Colour_Green      uint8\n",
              "Colour_Red        uint8\n",
              "dtype: object"
            ]
          },
          "metadata": {},
          "execution_count": 117
        }
      ],
      "source": [
        "data.dtypes"
      ]
    },
    {
      "cell_type": "markdown",
      "metadata": {
        "id": "EnCKEbfhxTMG"
      },
      "source": [
        "Finally we want to transfer our data to two numpy arrays, one containing the variables (features) and another the labels (ground truth)."
      ]
    },
    {
      "cell_type": "code",
      "execution_count": 118,
      "metadata": {
        "colab": {
          "base_uri": "https://localhost:8080/"
        },
        "id": "2cs-9T5HxTMG",
        "outputId": "69ef3996-1302-4ffa-956b-cc0c1741a10c"
      },
      "outputs": [
        {
          "output_type": "stream",
          "name": "stdout",
          "text": [
            "(33, 7) (33,)\n"
          ]
        }
      ],
      "source": [
        "import numpy as np\n",
        "x = data.loc[:, data.columns != 'Label'].to_numpy()\n",
        "y = data.loc[:, 'Label'].to_numpy()\n",
        "print(x.shape, y.shape)"
      ]
    },
    {
      "cell_type": "markdown",
      "metadata": {
        "id": "Q5161jO-xTMG"
      },
      "source": [
        "## Data Visualization"
      ]
    },
    {
      "cell_type": "markdown",
      "metadata": {
        "id": "qv6l5rLqxTMG"
      },
      "source": [
        "Is a good practice to visualize the data to see if there is something wrong. For this, is the library matplotlib includes a lot of tools to help us. Getting familiar with this library (or a similar one) and its functions is essential to become a data scientist. There are too many functions to introduce, but functions like scatter, plot, or bar are really useful to visualize our data and explore it. Play with it!"
      ]
    },
    {
      "cell_type": "markdown",
      "metadata": {
        "id": "RO3hF3jqxTMH"
      },
      "source": [
        "### False predictors"
      ]
    },
    {
      "cell_type": "markdown",
      "metadata": {
        "id": "UNcWVOS4xTMH"
      },
      "source": [
        "In some ocassions we may have a variable that is a false predictor, meaning that it's been introduced in the data by mistake and contains information about the label. Let's imagine that we have a dataset of the clients of a bank, and we want to predict if a client will buy an insurance. One of the variables could be how much the client pays to the bank for its services. If this prize includes the cost of the insurance, this will result in a variable that may have 'perfect' prediction power but won't work during the deployment because we will detect only the clients that already have an insurance."
      ]
    },
    {
      "cell_type": "markdown",
      "metadata": {
        "id": "Gt0V_N-nxTMH"
      },
      "source": [
        "In our data there is one false predictor, could you point which one looking at the plots?"
      ]
    },
    {
      "cell_type": "code",
      "execution_count": 119,
      "metadata": {
        "colab": {
          "base_uri": "https://localhost:8080/",
          "height": 390
        },
        "id": "EbzCCpRbxTMH",
        "outputId": "06f30a39-69dc-4d99-a9a4-b83f11f9a763"
      },
      "outputs": [
        {
          "output_type": "display_data",
          "data": {
            "image/png": "[encoded data removed]",
            "text/plain": [
              "<Figure size 576x432 with 7 Axes>"
            ]
          },
          "metadata": {
            "needs_background": "light"
          }
        }
      ],
      "source": [
        "import matplotlib.pyplot as plt\n",
        "\n",
        "plt.figure(figsize=(8,6))\n",
        "for i in range(x.shape[1]):\n",
        "    plt.subplot(3, 3, i+1)\n",
        "    plt.scatter(y,x[:,i])\n",
        "    plt.xticks([0, 1])\n",
        "    plt.title(data.columns[i])"
      ]
    },
    {
      "cell_type": "markdown",
      "metadata": {
        "id": "yaFCMoVFxTMH"
      },
      "source": [
        "## Cross-validation\n",
        "Learning the parameters of a prediction function and testing it on the same data is a methodological mistake: a model may memorise the training data perfectly and have a perfect score but would fail to predict anything useful on yet-unseen data. This situation is called overfitting. To avoid it, it is common practice when performing a (supervised) machine learning experiment to hold out part of the available data as a test set, which we will store in the variables `X_test` and `y_test`. "
      ]
    },
    {
      "cell_type": "markdown",
      "metadata": {
        "id": "z9AsLBTwxTMH"
      },
      "source": [
        "Conceptually, we need to simulate the future situation, where we have trained our system with some data and, then, we apply it to some unseen data. However, to get better estimates of the accuracy of our model on new data, it is good practice to repeat the procedure after rotating which part of the data are used for train and which for testing. This way we can be sure that the results are not biased."
      ]
    },
    {
      "cell_type": "markdown",
      "metadata": {
        "id": "DAsg1qR9xTMH"
      },
      "source": [
        "Scikit-learn is a library for machine learning (more on this in the next lab). It has a collection of classes which can be used to generate lists of train/test indices for popular cross-validation strategies.\n",
        "\n",
        "They expose a `split` method which accepts the input dataset to be split and yields the train/test set indices for each iteration of the chosen cross-validation strategy."
      ]
    },
    {
      "cell_type": "code",
      "execution_count": 120,
      "metadata": {
        "colab": {
          "base_uri": "https://localhost:8080/"
        },
        "id": "4gq3XWrFxTMI",
        "outputId": "13e8c670-f84e-4407-b90d-eb65a185cfa3"
      },
      "outputs": [
        {
          "output_type": "stream",
          "name": "stdout",
          "text": [
            "Train: [ 7  8  9 10 11 12 13 14 15 16 17 18 19 20 21 22 23 24 25 26 27 28 29 30\n",
            " 31 32] | test: [0 1 2 3 4 5 6]\n",
            "Train: [ 0  1  2  3  4  5  6 14 15 16 17 18 19 20 21 22 23 24 25 26 27 28 29 30\n",
            " 31 32] | test: [ 7  8  9 10 11 12 13]\n",
            "Train: [ 0  1  2  3  4  5  6  7  8  9 10 11 12 13 21 22 23 24 25 26 27 28 29 30\n",
            " 31 32] | test: [14 15 16 17 18 19 20]\n",
            "Train: [ 0  1  2  3  4  5  6  7  8  9 10 11 12 13 14 15 16 17 18 19 20 27 28 29\n",
            " 30 31 32] | test: [21 22 23 24 25 26]\n",
            "Train: [ 0  1  2  3  4  5  6  7  8  9 10 11 12 13 14 15 16 17 18 19 20 21 22 23\n",
            " 24 25 26] | test: [27 28 29 30 31 32]\n"
          ]
        }
      ],
      "source": [
        "from sklearn.model_selection import KFold, cross_val_score\n",
        "\n",
        "k_fold = KFold(n_splits=5)\n",
        "for train_indices, test_indices in k_fold.split(x):\n",
        "    print('Train: %s | test: %s' % (train_indices, test_indices))"
      ]
    },
    {
      "cell_type": "code",
      "source": [
        "from sklearn.model_selection import KFold, cross_val_score\n",
        "\n",
        "k_fold = KFold(n_splits=5,shuffle=True)\n",
        "for train_indices, test_indices in k_fold.split(x):\n",
        "    print('Train: %s | test: %s' % (train_indices, test_indices))"
      ],
      "metadata": {
        "colab": {
          "base_uri": "https://localhost:8080/"
        },
        "id": "FkCPSm_xLgbZ",
        "outputId": "52850f94-1c2f-4f26-9e9d-bd35b38f5d61"
      },
      "execution_count": 121,
      "outputs": [
        {
          "output_type": "stream",
          "name": "stdout",
          "text": [
            "Train: [ 0  1  2  3  5  6  7  9 10 11 12 13 14 15 17 22 23 24 25 26 27 28 29 30\n",
            " 31 32] | test: [ 4  8 16 18 19 20 21]\n",
            "Train: [ 1  3  4  5  7  8  9 11 12 13 14 15 16 18 19 20 21 22 23 24 25 26 28 29\n",
            " 30 32] | test: [ 0  2  6 10 17 27 31]\n",
            "Train: [ 0  1  2  3  4  5  6  7  8  9 10 12 14 16 17 18 19 20 21 24 26 27 28 30\n",
            " 31 32] | test: [11 13 15 22 23 25 29]\n",
            "Train: [ 0  2  4  5  6  8 10 11 12 13 15 16 17 18 19 20 21 22 23 24 25 27 28 29\n",
            " 30 31 32] | test: [ 1  3  7  9 14 26]\n",
            "Train: [ 0  1  2  3  4  6  7  8  9 10 11 13 14 15 16 17 18 19 20 21 22 23 25 26\n",
            " 27 29 31] | test: [ 5 12 24 28 30 32]\n"
          ]
        }
      ]
    },
    {
      "cell_type": "code",
      "source": [
        "# without shuffle\n",
        "# Train: [ 7  8  9 10 11 12 13 14 15 16 17 18 19 20 21 22 23 24 25 26 27 28 29 30 31 32] \n",
        "# test: [0 1 2 3 4 5 6] 0-6 are seperated\n",
        "# with shuffle\n",
        "# Train: [ 0  1  2  3  4  5  6  7  9 10 11 13 14 15 17 18 19 22 23 25 27 28 29 30 31 32]\n",
        "# test: [ 8 12 16 20 21 24 26] randomly picked"
      ],
      "metadata": {
        "id": "zHwap9zoMFTP"
      },
      "execution_count": 122,
      "outputs": []
    },
    {
      "cell_type": "markdown",
      "metadata": {
        "id": "eXzk3rQHxTMI"
      },
      "source": [
        "Cross-validation is the cornerstone of supervised machine learning design. All the data-dependent manipulations (not only classification, but also pre-processing) must happen inside Cross-Validation loops when analysing the performance of a system."
      ]
    },
    {
      "cell_type": "markdown",
      "metadata": {
        "id": "TVdQ9quJxTMI"
      },
      "source": [
        "Multiple cross-validation loops can be nested when performing hyper-paramether fitting. We will explore this in the next lab."
      ]
    },
    {
      "cell_type": "markdown",
      "metadata": {
        "id": "J0LXi56GxTMI"
      },
      "source": [
        "The `Kfold` class in sklearn, has another paramether, shuffle. Read the documentation about it and explore what changes when its value is True."
      ]
    },
    {
      "cell_type": "markdown",
      "metadata": {
        "id": "7chDenBAxTMI"
      },
      "source": [
        "## Pre-processing"
      ]
    },
    {
      "cell_type": "markdown",
      "metadata": {
        "id": "BnUUZn9sxTMI"
      },
      "source": [
        "### Missing data"
      ]
    },
    {
      "cell_type": "markdown",
      "metadata": {
        "id": "5U39CPnjxTMI"
      },
      "source": [
        "It is common to have missing values in some of the variables. We can see this counting the number of NaN (Not a Number) in our dataset:"
      ]
    },
    {
      "cell_type": "code",
      "execution_count": 123,
      "metadata": {
        "colab": {
          "base_uri": "https://localhost:8080/"
        },
        "id": "ec13d2jtxTMJ",
        "outputId": "0236854a-6b98-46c3-bec1-fc029288d514"
      },
      "outputs": [
        {
          "output_type": "execute_result",
          "data": {
            "text/plain": [
              "array([0, 4, 0, 0, 0, 0, 0])"
            ]
          },
          "metadata": {},
          "execution_count": 123
        }
      ],
      "source": [
        "np.sum(np.isnan(x), 0)"
      ]
    },
    {
      "cell_type": "markdown",
      "metadata": {
        "id": "8MwDZIGpxTMJ"
      },
      "source": [
        "Here we can see that the second variable on our dataset has some values missing."
      ]
    },
    {
      "cell_type": "markdown",
      "metadata": {
        "id": "Rx2bYJlkxTMJ"
      },
      "source": [
        "#### Default value"
      ]
    },
    {
      "cell_type": "markdown",
      "metadata": {
        "id": "QAjN3iAUxTMJ"
      },
      "source": [
        "The fastest and easiest way to deal with missing data, is to assing a default value (ex. 0). This is possible if we know something about the variable and which may be a good default value, but sometimes we don't."
      ]
    },
    {
      "cell_type": "markdown",
      "metadata": {
        "id": "50_lsAhFxTMK"
      },
      "source": [
        "#### Data-driven value"
      ]
    },
    {
      "cell_type": "markdown",
      "metadata": {
        "id": "ObtKLauwxTMK"
      },
      "source": [
        "A better option, is to use a value that is derived from the data, such as the mean, median or other statistical value. However, as mentioned before, this should happen inside the cross-validation."
      ]
    },
    {
      "cell_type": "markdown",
      "metadata": {
        "id": "vwsoH4QExTMK"
      },
      "source": [
        "Here we calculate the mean of the second variable in our dataset for different folds. We use the function `nanmean` from numpy to calculate the mean of an array containing NaN values."
      ]
    },
    {
      "cell_type": "code",
      "execution_count": 124,
      "metadata": {
        "colab": {
          "base_uri": "https://localhost:8080/"
        },
        "id": "3Si-u1lLxTMK",
        "outputId": "e59759ff-455f-468f-e4aa-f16df7a9cb5a"
      },
      "outputs": [
        {
          "output_type": "stream",
          "name": "stdout",
          "text": [
            "12.272727272727273\n",
            "12.130434782608695\n",
            "12.304347826086957\n",
            "12.416666666666666\n",
            "12.416666666666666\n"
          ]
        }
      ],
      "source": [
        "k_fold = KFold(n_splits=5)\n",
        "for train_indices, test_indices in k_fold.split(x):\n",
        "    print(np.nanmean(x[train_indices, 1]))"
      ]
    },
    {
      "cell_type": "markdown",
      "metadata": {
        "id": "xBugOSw7xTMK"
      },
      "source": [
        "As you can see the value of that mean differs for each fold. This is why is important to do it inside the fold validation loop."
      ]
    },
    {
      "cell_type": "markdown",
      "metadata": {
        "id": "elHVMTtJxTMK"
      },
      "source": [
        "### Data transformation"
      ]
    },
    {
      "cell_type": "markdown",
      "metadata": {
        "id": "XQggd-LdxTMK"
      },
      "source": [
        "Many algorithms work better when the data are inside a specific range, or when all the data have similar ranges. This is not the case for all the algorithms (they work equally well with unnormalised or normalised data)."
      ]
    },
    {
      "cell_type": "markdown",
      "metadata": {
        "id": "KFt-06F2xTML"
      },
      "source": [
        "#### Data-clipping"
      ]
    },
    {
      "cell_type": "markdown",
      "metadata": {
        "id": "ZfbAWPqExTML"
      },
      "source": [
        "One option is to just set a maximum a default maximum and minimum value. For this, it is possible to use the method `clip` from numpy."
      ]
    },
    {
      "cell_type": "markdown",
      "metadata": {
        "id": "8kL9DE3oxTML"
      },
      "source": [
        "#### Scaling and Normalization"
      ]
    },
    {
      "cell_type": "markdown",
      "metadata": {
        "id": "JPzLNqQhxTML"
      },
      "source": [
        "In the same way, as with the missing data, a better practice is to perfform this procedure in a data-driven manner. For this, sklearn provides several options in its 'preprocessing' package. As before, this normalisation step should be included inside the cross validation loop as well."
      ]
    },
    {
      "cell_type": "code",
      "execution_count": 125,
      "metadata": {
        "id": "Z1HgUXqPxTMM"
      },
      "outputs": [],
      "source": [
        "from sklearn.preprocessing import StandardScaler\n",
        "k_fold = KFold(n_splits=5)\n",
        "x_or = x.copy() # We make a copy of our data to avoid overwriting\n",
        "for train_indices, test_indices in k_fold.split(x):\n",
        "    mean = np.nanmean(x_or[train_indices, 1])\n",
        "    x[np.isnan(x_or[:,1]), 1] = mean # We substitute the missing values for the mean\n",
        "    ss = StandardScaler()\n",
        "    ss.fit(x[train_indices, :])\n",
        "    x_train = ss.transform(x[train_indices, :])\n",
        "    x_test = ss.transform(x[test_indices, :])"
      ]
    },
    {
      "cell_type": "markdown",
      "metadata": {
        "id": "SSAtShW2xTMM"
      },
      "source": [
        "In this example we see something that is common in many methods in the sklearn package, the division between `fit` and `transform`. These allow to the creation of pipelines which help streamline the modeling of different methods."
      ]
    },
    {
      "cell_type": "markdown",
      "metadata": {
        "id": "NAs7VqE6xTMM"
      },
      "source": [
        "## Exercise"
      ]
    },
    {
      "cell_type": "markdown",
      "metadata": {
        "id": "ZudAkIfPxTMM"
      },
      "source": [
        "Using what you have learned, prepare the data from the file 'exercise1.csv'. Note that in this case you need to manipulate the 'Label' column as well."
      ]
    },
    {
      "cell_type": "code",
      "source": [
        "import pandas as pd"
      ],
      "metadata": {
        "id": "EVH8WtDSPYNW"
      },
      "execution_count": 205,
      "outputs": []
    },
    {
      "cell_type": "code",
      "source": [
        "data = pd.read_csv('https://raw.githubusercontent.com/panks11/CE802/main/exercise1.csv',parse_dates=[[4,5]],dayfirst=True)"
      ],
      "metadata": {
        "id": "Vgdh1XYEO--1"
      },
      "execution_count": 206,
      "outputs": []
    },
    {
      "cell_type": "code",
      "source": [
        "data.head()"
      ],
      "metadata": {
        "colab": {
          "base_uri": "https://localhost:8080/",
          "height": 206
        },
        "id": "AA8gz7FVPcG_",
        "outputId": "b93950f5-fdbf-40a6-f701-c772fc739893"
      },
      "execution_count": 207,
      "outputs": [
        {
          "output_type": "execute_result",
          "data": {
            "text/html": [
              "\n",
              "  <div id=\"df-1432d848-07d8-4d90-978b-a7a39286b10d\">\n",
              "    <div class=\"colab-df-container\">\n",
              "      <div>\n",
              "<style scoped>\n",
              "    .dataframe tbody tr th:only-of-type {\n",
              "        vertical-align: middle;\n",
              "    }\n",
              "\n",
              "    .dataframe tbody tr th {\n",
              "        vertical-align: top;\n",
              "    }\n",
              "\n",
              "    .dataframe thead th {\n",
              "        text-align: right;\n",
              "    }\n",
              "</style>\n",
              "<table border=\"1\" class=\"dataframe\">\n",
              "  <thead>\n",
              "    <tr style=\"text-align: right;\">\n",
              "      <th></th>\n",
              "      <th>Date_Hour</th>\n",
              "      <th>ID_e</th>\n",
              "      <th>E</th>\n",
              "      <th>N</th>\n",
              "      <th>Sex</th>\n",
              "      <th>Cell</th>\n",
              "      <th>Label</th>\n",
              "    </tr>\n",
              "  </thead>\n",
              "  <tbody>\n",
              "    <tr>\n",
              "      <th>0</th>\n",
              "      <td>2018-06-05 12:27:00</td>\n",
              "      <td>e1f1</td>\n",
              "      <td>5.583066</td>\n",
              "      <td>1.175189</td>\n",
              "      <td>f</td>\n",
              "      <td>e1</td>\n",
              "      <td>o</td>\n",
              "    </tr>\n",
              "    <tr>\n",
              "      <th>1</th>\n",
              "      <td>2018-06-21 10:20:00</td>\n",
              "      <td>e1f1</td>\n",
              "      <td>5.325020</td>\n",
              "      <td>0.962680</td>\n",
              "      <td>f</td>\n",
              "      <td>e1</td>\n",
              "      <td>o</td>\n",
              "    </tr>\n",
              "    <tr>\n",
              "      <th>2</th>\n",
              "      <td>2018-06-21 14:25:00</td>\n",
              "      <td>e1f1</td>\n",
              "      <td>3.412439</td>\n",
              "      <td>0.947501</td>\n",
              "      <td>f</td>\n",
              "      <td>e1</td>\n",
              "      <td>o</td>\n",
              "    </tr>\n",
              "    <tr>\n",
              "      <th>3</th>\n",
              "      <td>2018-06-21 12:30:00</td>\n",
              "      <td>e1f1</td>\n",
              "      <td>3.761561</td>\n",
              "      <td>2.010046</td>\n",
              "      <td>f</td>\n",
              "      <td>e1</td>\n",
              "      <td>o</td>\n",
              "    </tr>\n",
              "    <tr>\n",
              "      <th>4</th>\n",
              "      <td>2018-06-15 12:06:00</td>\n",
              "      <td>e1f1</td>\n",
              "      <td>NaN</td>\n",
              "      <td>1.144831</td>\n",
              "      <td>f</td>\n",
              "      <td>e1</td>\n",
              "      <td>o</td>\n",
              "    </tr>\n",
              "  </tbody>\n",
              "</table>\n",
              "</div>\n",
              "      <button class=\"colab-df-convert\" onclick=\"convertToInteractive('df-1432d848-07d8-4d90-978b-a7a39286b10d')\"\n",
              "              title=\"Convert this dataframe to an interactive table.\"\n",
              "              style=\"display:none;\">\n",
              "        \n",
              "  <svg xmlns=\"http://www.w3.org/2000/svg\" height=\"24px\"viewBox=\"0 0 24 24\"\n",
              "       width=\"24px\">\n",
              "    <path d=\"M0 0h24v24H0V0z\" fill=\"none\"/>\n",
              "    <path d=\"M18.56 5.44l.94 2.06.94-2.06 2.06-.94-2.06-.94-.94-2.06-.94 2.06-2.06.94zm-11 1L8.5 8.5l.94-2.06 2.06-.94-2.06-.94L8.5 2.5l-.94 2.06-2.06.94zm10 10l.94 2.06.94-2.06 2.06-.94-2.06-.94-.94-2.06-.94 2.06-2.06.94z\"/><path d=\"M17.41 7.96l-1.37-1.37c-.4-.4-.92-.59-1.43-.59-.52 0-1.04.2-1.43.59L10.3 9.45l-7.72 7.72c-.78.78-.78 2.05 0 2.83L4 21.41c.39.39.9.59 1.41.59.51 0 1.02-.2 1.41-.59l7.78-7.78 2.81-2.81c.8-.78.8-2.07 0-2.86zM5.41 20L4 18.59l7.72-7.72 1.47 1.35L5.41 20z\"/>\n",
              "  </svg>\n",
              "      </button>\n",
              "      \n",
              "  <style>\n",
              "    .colab-df-container {\n",
              "      display:flex;\n",
              "      flex-wrap:wrap;\n",
              "      gap: 12px;\n",
              "    }\n",
              "\n",
              "    .colab-df-convert {\n",
              "      background-color: #E8F0FE;\n",
              "      border: none;\n",
              "      border-radius: 50%;\n",
              "      cursor: pointer;\n",
              "      display: none;\n",
              "      fill: #1967D2;\n",
              "      height: 32px;\n",
              "      padding: 0 0 0 0;\n",
              "      width: 32px;\n",
              "    }\n",
              "\n",
              "    .colab-df-convert:hover {\n",
              "      background-color: #E2EBFA;\n",
              "      box-shadow: 0px 1px 2px rgba(60, 64, 67, 0.3), 0px 1px 3px 1px rgba(60, 64, 67, 0.15);\n",
              "      fill: #174EA6;\n",
              "    }\n",
              "\n",
              "    [theme=dark] .colab-df-convert {\n",
              "      background-color: #3B4455;\n",
              "      fill: #D2E3FC;\n",
              "    }\n",
              "\n",
              "    [theme=dark] .colab-df-convert:hover {\n",
              "      background-color: #434B5C;\n",
              "      box-shadow: 0px 1px 3px 1px rgba(0, 0, 0, 0.15);\n",
              "      filter: drop-shadow(0px 1px 2px rgba(0, 0, 0, 0.3));\n",
              "      fill: #FFFFFF;\n",
              "    }\n",
              "  </style>\n",
              "\n",
              "      <script>\n",
              "        const buttonEl =\n",
              "          document.querySelector('#df-1432d848-07d8-4d90-978b-a7a39286b10d button.colab-df-convert');\n",
              "        buttonEl.style.display =\n",
              "          google.colab.kernel.accessAllowed ? 'block' : 'none';\n",
              "\n",
              "        async function convertToInteractive(key) {\n",
              "          const element = document.querySelector('#df-1432d848-07d8-4d90-978b-a7a39286b10d');\n",
              "          const dataTable =\n",
              "            await google.colab.kernel.invokeFunction('convertToInteractive',\n",
              "                                                     [key], {});\n",
              "          if (!dataTable) return;\n",
              "\n",
              "          const docLinkHtml = 'Like what you see? Visit the ' +\n",
              "            '<a target=\"_blank\" href=https://colab.research.google.com/notebooks/data_table.ipynb>data table notebook</a>'\n",
              "            + ' to learn more about interactive tables.';\n",
              "          element.innerHTML = '';\n",
              "          dataTable['output_type'] = 'display_data';\n",
              "          await google.colab.output.renderOutput(dataTable, element);\n",
              "          const docLink = document.createElement('div');\n",
              "          docLink.innerHTML = docLinkHtml;\n",
              "          element.appendChild(docLink);\n",
              "        }\n",
              "      </script>\n",
              "    </div>\n",
              "  </div>\n",
              "  "
            ],
            "text/plain": [
              "            Date_Hour  ID_e         E         N Sex Cell Label\n",
              "0 2018-06-05 12:27:00  e1f1  5.583066  1.175189   f   e1     o\n",
              "1 2018-06-21 10:20:00  e1f1  5.325020  0.962680   f   e1     o\n",
              "2 2018-06-21 14:25:00  e1f1  3.412439  0.947501   f   e1     o\n",
              "3 2018-06-21 12:30:00  e1f1  3.761561  2.010046   f   e1     o\n",
              "4 2018-06-15 12:06:00  e1f1       NaN  1.144831   f   e1     o"
            ]
          },
          "metadata": {},
          "execution_count": 207
        }
      ]
    },
    {
      "cell_type": "code",
      "source": [
        "data.dtypes"
      ],
      "metadata": {
        "colab": {
          "base_uri": "https://localhost:8080/"
        },
        "id": "_4j8061NUVvl",
        "outputId": "8974a667-4dbe-4a44-d0bb-02485c3ae0d4"
      },
      "execution_count": 208,
      "outputs": [
        {
          "output_type": "execute_result",
          "data": {
            "text/plain": [
              "Date_Hour    datetime64[ns]\n",
              "ID_e                 object\n",
              "E                   float64\n",
              "N                   float64\n",
              "Sex                  object\n",
              "Cell                 object\n",
              "Label                object\n",
              "dtype: object"
            ]
          },
          "metadata": {},
          "execution_count": 208
        }
      ]
    },
    {
      "cell_type": "code",
      "source": [
        "time0 = pd.Timestamp('2020-08-01 00:00:00')\n",
        "data['Date_Hour'] = (data['Date_Hour'] - time0).values.astype(float)\n",
        "data.head()"
      ],
      "metadata": {
        "colab": {
          "base_uri": "https://localhost:8080/",
          "height": 206
        },
        "id": "EoCnfLx0Xrol",
        "outputId": "45637a55-43ca-445a-d982-0dc85bf3ca3b"
      },
      "execution_count": 209,
      "outputs": [
        {
          "output_type": "execute_result",
          "data": {
            "text/html": [
              "\n",
              "  <div id=\"df-610444cf-8ceb-4d93-9fe0-b0cc2129f37a\">\n",
              "    <div class=\"colab-df-container\">\n",
              "      <div>\n",
              "<style scoped>\n",
              "    .dataframe tbody tr th:only-of-type {\n",
              "        vertical-align: middle;\n",
              "    }\n",
              "\n",
              "    .dataframe tbody tr th {\n",
              "        vertical-align: top;\n",
              "    }\n",
              "\n",
              "    .dataframe thead th {\n",
              "        text-align: right;\n",
              "    }\n",
              "</style>\n",
              "<table border=\"1\" class=\"dataframe\">\n",
              "  <thead>\n",
              "    <tr style=\"text-align: right;\">\n",
              "      <th></th>\n",
              "      <th>Date_Hour</th>\n",
              "      <th>ID_e</th>\n",
              "      <th>E</th>\n",
              "      <th>N</th>\n",
              "      <th>Sex</th>\n",
              "      <th>Cell</th>\n",
              "      <th>Label</th>\n",
              "    </tr>\n",
              "  </thead>\n",
              "  <tbody>\n",
              "    <tr>\n",
              "      <th>0</th>\n",
              "      <td>-6.803838e+16</td>\n",
              "      <td>e1f1</td>\n",
              "      <td>5.583066</td>\n",
              "      <td>1.175189</td>\n",
              "      <td>f</td>\n",
              "      <td>e1</td>\n",
              "      <td>o</td>\n",
              "    </tr>\n",
              "    <tr>\n",
              "      <th>1</th>\n",
              "      <td>-6.666360e+16</td>\n",
              "      <td>e1f1</td>\n",
              "      <td>5.325020</td>\n",
              "      <td>0.962680</td>\n",
              "      <td>f</td>\n",
              "      <td>e1</td>\n",
              "      <td>o</td>\n",
              "    </tr>\n",
              "    <tr>\n",
              "      <th>2</th>\n",
              "      <td>-6.664890e+16</td>\n",
              "      <td>e1f1</td>\n",
              "      <td>3.412439</td>\n",
              "      <td>0.947501</td>\n",
              "      <td>f</td>\n",
              "      <td>e1</td>\n",
              "      <td>o</td>\n",
              "    </tr>\n",
              "    <tr>\n",
              "      <th>3</th>\n",
              "      <td>-6.665580e+16</td>\n",
              "      <td>e1f1</td>\n",
              "      <td>3.761561</td>\n",
              "      <td>2.010046</td>\n",
              "      <td>f</td>\n",
              "      <td>e1</td>\n",
              "      <td>o</td>\n",
              "    </tr>\n",
              "    <tr>\n",
              "      <th>4</th>\n",
              "      <td>-6.717564e+16</td>\n",
              "      <td>e1f1</td>\n",
              "      <td>NaN</td>\n",
              "      <td>1.144831</td>\n",
              "      <td>f</td>\n",
              "      <td>e1</td>\n",
              "      <td>o</td>\n",
              "    </tr>\n",
              "  </tbody>\n",
              "</table>\n",
              "</div>\n",
              "      <button class=\"colab-df-convert\" onclick=\"convertToInteractive('df-610444cf-8ceb-4d93-9fe0-b0cc2129f37a')\"\n",
              "              title=\"Convert this dataframe to an interactive table.\"\n",
              "              style=\"display:none;\">\n",
              "        \n",
              "  <svg xmlns=\"http://www.w3.org/2000/svg\" height=\"24px\"viewBox=\"0 0 24 24\"\n",
              "       width=\"24px\">\n",
              "    <path d=\"M0 0h24v24H0V0z\" fill=\"none\"/>\n",
              "    <path d=\"M18.56 5.44l.94 2.06.94-2.06 2.06-.94-2.06-.94-.94-2.06-.94 2.06-2.06.94zm-11 1L8.5 8.5l.94-2.06 2.06-.94-2.06-.94L8.5 2.5l-.94 2.06-2.06.94zm10 10l.94 2.06.94-2.06 2.06-.94-2.06-.94-.94-2.06-.94 2.06-2.06.94z\"/><path d=\"M17.41 7.96l-1.37-1.37c-.4-.4-.92-.59-1.43-.59-.52 0-1.04.2-1.43.59L10.3 9.45l-7.72 7.72c-.78.78-.78 2.05 0 2.83L4 21.41c.39.39.9.59 1.41.59.51 0 1.02-.2 1.41-.59l7.78-7.78 2.81-2.81c.8-.78.8-2.07 0-2.86zM5.41 20L4 18.59l7.72-7.72 1.47 1.35L5.41 20z\"/>\n",
              "  </svg>\n",
              "      </button>\n",
              "      \n",
              "  <style>\n",
              "    .colab-df-container {\n",
              "      display:flex;\n",
              "      flex-wrap:wrap;\n",
              "      gap: 12px;\n",
              "    }\n",
              "\n",
              "    .colab-df-convert {\n",
              "      background-color: #E8F0FE;\n",
              "      border: none;\n",
              "      border-radius: 50%;\n",
              "      cursor: pointer;\n",
              "      display: none;\n",
              "      fill: #1967D2;\n",
              "      height: 32px;\n",
              "      padding: 0 0 0 0;\n",
              "      width: 32px;\n",
              "    }\n",
              "\n",
              "    .colab-df-convert:hover {\n",
              "      background-color: #E2EBFA;\n",
              "      box-shadow: 0px 1px 2px rgba(60, 64, 67, 0.3), 0px 1px 3px 1px rgba(60, 64, 67, 0.15);\n",
              "      fill: #174EA6;\n",
              "    }\n",
              "\n",
              "    [theme=dark] .colab-df-convert {\n",
              "      background-color: #3B4455;\n",
              "      fill: #D2E3FC;\n",
              "    }\n",
              "\n",
              "    [theme=dark] .colab-df-convert:hover {\n",
              "      background-color: #434B5C;\n",
              "      box-shadow: 0px 1px 3px 1px rgba(0, 0, 0, 0.15);\n",
              "      filter: drop-shadow(0px 1px 2px rgba(0, 0, 0, 0.3));\n",
              "      fill: #FFFFFF;\n",
              "    }\n",
              "  </style>\n",
              "\n",
              "      <script>\n",
              "        const buttonEl =\n",
              "          document.querySelector('#df-610444cf-8ceb-4d93-9fe0-b0cc2129f37a button.colab-df-convert');\n",
              "        buttonEl.style.display =\n",
              "          google.colab.kernel.accessAllowed ? 'block' : 'none';\n",
              "\n",
              "        async function convertToInteractive(key) {\n",
              "          const element = document.querySelector('#df-610444cf-8ceb-4d93-9fe0-b0cc2129f37a');\n",
              "          const dataTable =\n",
              "            await google.colab.kernel.invokeFunction('convertToInteractive',\n",
              "                                                     [key], {});\n",
              "          if (!dataTable) return;\n",
              "\n",
              "          const docLinkHtml = 'Like what you see? Visit the ' +\n",
              "            '<a target=\"_blank\" href=https://colab.research.google.com/notebooks/data_table.ipynb>data table notebook</a>'\n",
              "            + ' to learn more about interactive tables.';\n",
              "          element.innerHTML = '';\n",
              "          dataTable['output_type'] = 'display_data';\n",
              "          await google.colab.output.renderOutput(dataTable, element);\n",
              "          const docLink = document.createElement('div');\n",
              "          docLink.innerHTML = docLinkHtml;\n",
              "          element.appendChild(docLink);\n",
              "        }\n",
              "      </script>\n",
              "    </div>\n",
              "  </div>\n",
              "  "
            ],
            "text/plain": [
              "      Date_Hour  ID_e         E         N Sex Cell Label\n",
              "0 -6.803838e+16  e1f1  5.583066  1.175189   f   e1     o\n",
              "1 -6.666360e+16  e1f1  5.325020  0.962680   f   e1     o\n",
              "2 -6.664890e+16  e1f1  3.412439  0.947501   f   e1     o\n",
              "3 -6.665580e+16  e1f1  3.761561  2.010046   f   e1     o\n",
              "4 -6.717564e+16  e1f1       NaN  1.144831   f   e1     o"
            ]
          },
          "metadata": {},
          "execution_count": 209
        }
      ]
    },
    {
      "cell_type": "code",
      "source": [
        "print(data['Label'].value_counts())\n",
        "print(data['ID_e'].value_counts())\n",
        "print(data['Cell'].value_counts())"
      ],
      "metadata": {
        "colab": {
          "base_uri": "https://localhost:8080/"
        },
        "id": "2FyP50H5dC3_",
        "outputId": "f0d4f153-36d3-4ffa-d92d-afd021f87e9d"
      },
      "execution_count": 210,
      "outputs": [
        {
          "output_type": "stream",
          "name": "stdout",
          "text": [
            "y    2479\n",
            "o    2475\n",
            "w    2235\n",
            "Name: Label, dtype: int64\n",
            "e7m3     68\n",
            "e1m8     66\n",
            "e3m3     66\n",
            "e3m7     65\n",
            "e2m7     65\n",
            "         ..\n",
            "e10f2     9\n",
            "e7m9      9\n",
            "e10m5     7\n",
            "e10m2     6\n",
            "e10m1     6\n",
            "Name: ID_e, Length: 180, dtype: int64\n",
            "e1     850\n",
            "e2     824\n",
            "e6     792\n",
            "e7     787\n",
            "e3     766\n",
            "e5     758\n",
            "e8     753\n",
            "e4     699\n",
            "e9     530\n",
            "e10    430\n",
            "Name: Cell, dtype: int64\n"
          ]
        }
      ]
    },
    {
      "cell_type": "code",
      "source": [
        "from sklearn.preprocessing import LabelEncoder \n",
        "lenc =  LabelEncoder()\n",
        "data['Label'] = lenc.fit_transform(data['Label'])"
      ],
      "metadata": {
        "id": "CblUi7gfiNz7"
      },
      "execution_count": 211,
      "outputs": []
    },
    {
      "cell_type": "code",
      "source": [
        "data.head()"
      ],
      "metadata": {
        "colab": {
          "base_uri": "https://localhost:8080/",
          "height": 206
        },
        "id": "jb621IlxjEP-",
        "outputId": "15eaba44-e461-4d4e-c673-b60684dcd49f"
      },
      "execution_count": 212,
      "outputs": [
        {
          "output_type": "execute_result",
          "data": {
            "text/html": [
              "\n",
              "  <div id=\"df-356c7529-0468-4f3f-ba74-edb578474017\">\n",
              "    <div class=\"colab-df-container\">\n",
              "      <div>\n",
              "<style scoped>\n",
              "    .dataframe tbody tr th:only-of-type {\n",
              "        vertical-align: middle;\n",
              "    }\n",
              "\n",
              "    .dataframe tbody tr th {\n",
              "        vertical-align: top;\n",
              "    }\n",
              "\n",
              "    .dataframe thead th {\n",
              "        text-align: right;\n",
              "    }\n",
              "</style>\n",
              "<table border=\"1\" class=\"dataframe\">\n",
              "  <thead>\n",
              "    <tr style=\"text-align: right;\">\n",
              "      <th></th>\n",
              "      <th>Date_Hour</th>\n",
              "      <th>ID_e</th>\n",
              "      <th>E</th>\n",
              "      <th>N</th>\n",
              "      <th>Sex</th>\n",
              "      <th>Cell</th>\n",
              "      <th>Label</th>\n",
              "    </tr>\n",
              "  </thead>\n",
              "  <tbody>\n",
              "    <tr>\n",
              "      <th>0</th>\n",
              "      <td>-6.803838e+16</td>\n",
              "      <td>e1f1</td>\n",
              "      <td>5.583066</td>\n",
              "      <td>1.175189</td>\n",
              "      <td>f</td>\n",
              "      <td>e1</td>\n",
              "      <td>0</td>\n",
              "    </tr>\n",
              "    <tr>\n",
              "      <th>1</th>\n",
              "      <td>-6.666360e+16</td>\n",
              "      <td>e1f1</td>\n",
              "      <td>5.325020</td>\n",
              "      <td>0.962680</td>\n",
              "      <td>f</td>\n",
              "      <td>e1</td>\n",
              "      <td>0</td>\n",
              "    </tr>\n",
              "    <tr>\n",
              "      <th>2</th>\n",
              "      <td>-6.664890e+16</td>\n",
              "      <td>e1f1</td>\n",
              "      <td>3.412439</td>\n",
              "      <td>0.947501</td>\n",
              "      <td>f</td>\n",
              "      <td>e1</td>\n",
              "      <td>0</td>\n",
              "    </tr>\n",
              "    <tr>\n",
              "      <th>3</th>\n",
              "      <td>-6.665580e+16</td>\n",
              "      <td>e1f1</td>\n",
              "      <td>3.761561</td>\n",
              "      <td>2.010046</td>\n",
              "      <td>f</td>\n",
              "      <td>e1</td>\n",
              "      <td>0</td>\n",
              "    </tr>\n",
              "    <tr>\n",
              "      <th>4</th>\n",
              "      <td>-6.717564e+16</td>\n",
              "      <td>e1f1</td>\n",
              "      <td>NaN</td>\n",
              "      <td>1.144831</td>\n",
              "      <td>f</td>\n",
              "      <td>e1</td>\n",
              "      <td>0</td>\n",
              "    </tr>\n",
              "  </tbody>\n",
              "</table>\n",
              "</div>\n",
              "      <button class=\"colab-df-convert\" onclick=\"convertToInteractive('df-356c7529-0468-4f3f-ba74-edb578474017')\"\n",
              "              title=\"Convert this dataframe to an interactive table.\"\n",
              "              style=\"display:none;\">\n",
              "        \n",
              "  <svg xmlns=\"http://www.w3.org/2000/svg\" height=\"24px\"viewBox=\"0 0 24 24\"\n",
              "       width=\"24px\">\n",
              "    <path d=\"M0 0h24v24H0V0z\" fill=\"none\"/>\n",
              "    <path d=\"M18.56 5.44l.94 2.06.94-2.06 2.06-.94-2.06-.94-.94-2.06-.94 2.06-2.06.94zm-11 1L8.5 8.5l.94-2.06 2.06-.94-2.06-.94L8.5 2.5l-.94 2.06-2.06.94zm10 10l.94 2.06.94-2.06 2.06-.94-2.06-.94-.94-2.06-.94 2.06-2.06.94z\"/><path d=\"M17.41 7.96l-1.37-1.37c-.4-.4-.92-.59-1.43-.59-.52 0-1.04.2-1.43.59L10.3 9.45l-7.72 7.72c-.78.78-.78 2.05 0 2.83L4 21.41c.39.39.9.59 1.41.59.51 0 1.02-.2 1.41-.59l7.78-7.78 2.81-2.81c.8-.78.8-2.07 0-2.86zM5.41 20L4 18.59l7.72-7.72 1.47 1.35L5.41 20z\"/>\n",
              "  </svg>\n",
              "      </button>\n",
              "      \n",
              "  <style>\n",
              "    .colab-df-container {\n",
              "      display:flex;\n",
              "      flex-wrap:wrap;\n",
              "      gap: 12px;\n",
              "    }\n",
              "\n",
              "    .colab-df-convert {\n",
              "      background-color: #E8F0FE;\n",
              "      border: none;\n",
              "      border-radius: 50%;\n",
              "      cursor: pointer;\n",
              "      display: none;\n",
              "      fill: #1967D2;\n",
              "      height: 32px;\n",
              "      padding: 0 0 0 0;\n",
              "      width: 32px;\n",
              "    }\n",
              "\n",
              "    .colab-df-convert:hover {\n",
              "      background-color: #E2EBFA;\n",
              "      box-shadow: 0px 1px 2px rgba(60, 64, 67, 0.3), 0px 1px 3px 1px rgba(60, 64, 67, 0.15);\n",
              "      fill: #174EA6;\n",
              "    }\n",
              "\n",
              "    [theme=dark] .colab-df-convert {\n",
              "      background-color: #3B4455;\n",
              "      fill: #D2E3FC;\n",
              "    }\n",
              "\n",
              "    [theme=dark] .colab-df-convert:hover {\n",
              "      background-color: #434B5C;\n",
              "      box-shadow: 0px 1px 3px 1px rgba(0, 0, 0, 0.15);\n",
              "      filter: drop-shadow(0px 1px 2px rgba(0, 0, 0, 0.3));\n",
              "      fill: #FFFFFF;\n",
              "    }\n",
              "  </style>\n",
              "\n",
              "      <script>\n",
              "        const buttonEl =\n",
              "          document.querySelector('#df-356c7529-0468-4f3f-ba74-edb578474017 button.colab-df-convert');\n",
              "        buttonEl.style.display =\n",
              "          google.colab.kernel.accessAllowed ? 'block' : 'none';\n",
              "\n",
              "        async function convertToInteractive(key) {\n",
              "          const element = document.querySelector('#df-356c7529-0468-4f3f-ba74-edb578474017');\n",
              "          const dataTable =\n",
              "            await google.colab.kernel.invokeFunction('convertToInteractive',\n",
              "                                                     [key], {});\n",
              "          if (!dataTable) return;\n",
              "\n",
              "          const docLinkHtml = 'Like what you see? Visit the ' +\n",
              "            '<a target=\"_blank\" href=https://colab.research.google.com/notebooks/data_table.ipynb>data table notebook</a>'\n",
              "            + ' to learn more about interactive tables.';\n",
              "          element.innerHTML = '';\n",
              "          dataTable['output_type'] = 'display_data';\n",
              "          await google.colab.output.renderOutput(dataTable, element);\n",
              "          const docLink = document.createElement('div');\n",
              "          docLink.innerHTML = docLinkHtml;\n",
              "          element.appendChild(docLink);\n",
              "        }\n",
              "      </script>\n",
              "    </div>\n",
              "  </div>\n",
              "  "
            ],
            "text/plain": [
              "      Date_Hour  ID_e         E         N Sex Cell  Label\n",
              "0 -6.803838e+16  e1f1  5.583066  1.175189   f   e1      0\n",
              "1 -6.666360e+16  e1f1  5.325020  0.962680   f   e1      0\n",
              "2 -6.664890e+16  e1f1  3.412439  0.947501   f   e1      0\n",
              "3 -6.665580e+16  e1f1  3.761561  2.010046   f   e1      0\n",
              "4 -6.717564e+16  e1f1       NaN  1.144831   f   e1      0"
            ]
          },
          "metadata": {},
          "execution_count": 212
        }
      ]
    },
    {
      "cell_type": "code",
      "source": [
        "data = pd.get_dummies(data, columns= ['Sex'])\n",
        "data.head()"
      ],
      "metadata": {
        "colab": {
          "base_uri": "https://localhost:8080/",
          "height": 206
        },
        "id": "6jmYdo8sjLbw",
        "outputId": "6a949d02-29cb-4aa2-e04c-12f9d7043071"
      },
      "execution_count": 213,
      "outputs": [
        {
          "output_type": "execute_result",
          "data": {
            "text/html": [
              "\n",
              "  <div id=\"df-c8628894-32fa-4250-9a0f-a89066799e34\">\n",
              "    <div class=\"colab-df-container\">\n",
              "      <div>\n",
              "<style scoped>\n",
              "    .dataframe tbody tr th:only-of-type {\n",
              "        vertical-align: middle;\n",
              "    }\n",
              "\n",
              "    .dataframe tbody tr th {\n",
              "        vertical-align: top;\n",
              "    }\n",
              "\n",
              "    .dataframe thead th {\n",
              "        text-align: right;\n",
              "    }\n",
              "</style>\n",
              "<table border=\"1\" class=\"dataframe\">\n",
              "  <thead>\n",
              "    <tr style=\"text-align: right;\">\n",
              "      <th></th>\n",
              "      <th>Date_Hour</th>\n",
              "      <th>ID_e</th>\n",
              "      <th>E</th>\n",
              "      <th>N</th>\n",
              "      <th>Cell</th>\n",
              "      <th>Label</th>\n",
              "      <th>Sex_f</th>\n",
              "      <th>Sex_m</th>\n",
              "    </tr>\n",
              "  </thead>\n",
              "  <tbody>\n",
              "    <tr>\n",
              "      <th>0</th>\n",
              "      <td>-6.803838e+16</td>\n",
              "      <td>e1f1</td>\n",
              "      <td>5.583066</td>\n",
              "      <td>1.175189</td>\n",
              "      <td>e1</td>\n",
              "      <td>0</td>\n",
              "      <td>1</td>\n",
              "      <td>0</td>\n",
              "    </tr>\n",
              "    <tr>\n",
              "      <th>1</th>\n",
              "      <td>-6.666360e+16</td>\n",
              "      <td>e1f1</td>\n",
              "      <td>5.325020</td>\n",
              "      <td>0.962680</td>\n",
              "      <td>e1</td>\n",
              "      <td>0</td>\n",
              "      <td>1</td>\n",
              "      <td>0</td>\n",
              "    </tr>\n",
              "    <tr>\n",
              "      <th>2</th>\n",
              "      <td>-6.664890e+16</td>\n",
              "      <td>e1f1</td>\n",
              "      <td>3.412439</td>\n",
              "      <td>0.947501</td>\n",
              "      <td>e1</td>\n",
              "      <td>0</td>\n",
              "      <td>1</td>\n",
              "      <td>0</td>\n",
              "    </tr>\n",
              "    <tr>\n",
              "      <th>3</th>\n",
              "      <td>-6.665580e+16</td>\n",
              "      <td>e1f1</td>\n",
              "      <td>3.761561</td>\n",
              "      <td>2.010046</td>\n",
              "      <td>e1</td>\n",
              "      <td>0</td>\n",
              "      <td>1</td>\n",
              "      <td>0</td>\n",
              "    </tr>\n",
              "    <tr>\n",
              "      <th>4</th>\n",
              "      <td>-6.717564e+16</td>\n",
              "      <td>e1f1</td>\n",
              "      <td>NaN</td>\n",
              "      <td>1.144831</td>\n",
              "      <td>e1</td>\n",
              "      <td>0</td>\n",
              "      <td>1</td>\n",
              "      <td>0</td>\n",
              "    </tr>\n",
              "  </tbody>\n",
              "</table>\n",
              "</div>\n",
              "      <button class=\"colab-df-convert\" onclick=\"convertToInteractive('df-c8628894-32fa-4250-9a0f-a89066799e34')\"\n",
              "              title=\"Convert this dataframe to an interactive table.\"\n",
              "              style=\"display:none;\">\n",
              "        \n",
              "  <svg xmlns=\"http://www.w3.org/2000/svg\" height=\"24px\"viewBox=\"0 0 24 24\"\n",
              "       width=\"24px\">\n",
              "    <path d=\"M0 0h24v24H0V0z\" fill=\"none\"/>\n",
              "    <path d=\"M18.56 5.44l.94 2.06.94-2.06 2.06-.94-2.06-.94-.94-2.06-.94 2.06-2.06.94zm-11 1L8.5 8.5l.94-2.06 2.06-.94-2.06-.94L8.5 2.5l-.94 2.06-2.06.94zm10 10l.94 2.06.94-2.06 2.06-.94-2.06-.94-.94-2.06-.94 2.06-2.06.94z\"/><path d=\"M17.41 7.96l-1.37-1.37c-.4-.4-.92-.59-1.43-.59-.52 0-1.04.2-1.43.59L10.3 9.45l-7.72 7.72c-.78.78-.78 2.05 0 2.83L4 21.41c.39.39.9.59 1.41.59.51 0 1.02-.2 1.41-.59l7.78-7.78 2.81-2.81c.8-.78.8-2.07 0-2.86zM5.41 20L4 18.59l7.72-7.72 1.47 1.35L5.41 20z\"/>\n",
              "  </svg>\n",
              "      </button>\n",
              "      \n",
              "  <style>\n",
              "    .colab-df-container {\n",
              "      display:flex;\n",
              "      flex-wrap:wrap;\n",
              "      gap: 12px;\n",
              "    }\n",
              "\n",
              "    .colab-df-convert {\n",
              "      background-color: #E8F0FE;\n",
              "      border: none;\n",
              "      border-radius: 50%;\n",
              "      cursor: pointer;\n",
              "      display: none;\n",
              "      fill: #1967D2;\n",
              "      height: 32px;\n",
              "      padding: 0 0 0 0;\n",
              "      width: 32px;\n",
              "    }\n",
              "\n",
              "    .colab-df-convert:hover {\n",
              "      background-color: #E2EBFA;\n",
              "      box-shadow: 0px 1px 2px rgba(60, 64, 67, 0.3), 0px 1px 3px 1px rgba(60, 64, 67, 0.15);\n",
              "      fill: #174EA6;\n",
              "    }\n",
              "\n",
              "    [theme=dark] .colab-df-convert {\n",
              "      background-color: #3B4455;\n",
              "      fill: #D2E3FC;\n",
              "    }\n",
              "\n",
              "    [theme=dark] .colab-df-convert:hover {\n",
              "      background-color: #434B5C;\n",
              "      box-shadow: 0px 1px 3px 1px rgba(0, 0, 0, 0.15);\n",
              "      filter: drop-shadow(0px 1px 2px rgba(0, 0, 0, 0.3));\n",
              "      fill: #FFFFFF;\n",
              "    }\n",
              "  </style>\n",
              "\n",
              "      <script>\n",
              "        const buttonEl =\n",
              "          document.querySelector('#df-c8628894-32fa-4250-9a0f-a89066799e34 button.colab-df-convert');\n",
              "        buttonEl.style.display =\n",
              "          google.colab.kernel.accessAllowed ? 'block' : 'none';\n",
              "\n",
              "        async function convertToInteractive(key) {\n",
              "          const element = document.querySelector('#df-c8628894-32fa-4250-9a0f-a89066799e34');\n",
              "          const dataTable =\n",
              "            await google.colab.kernel.invokeFunction('convertToInteractive',\n",
              "                                                     [key], {});\n",
              "          if (!dataTable) return;\n",
              "\n",
              "          const docLinkHtml = 'Like what you see? Visit the ' +\n",
              "            '<a target=\"_blank\" href=https://colab.research.google.com/notebooks/data_table.ipynb>data table notebook</a>'\n",
              "            + ' to learn more about interactive tables.';\n",
              "          element.innerHTML = '';\n",
              "          dataTable['output_type'] = 'display_data';\n",
              "          await google.colab.output.renderOutput(dataTable, element);\n",
              "          const docLink = document.createElement('div');\n",
              "          docLink.innerHTML = docLinkHtml;\n",
              "          element.appendChild(docLink);\n",
              "        }\n",
              "      </script>\n",
              "    </div>\n",
              "  </div>\n",
              "  "
            ],
            "text/plain": [
              "      Date_Hour  ID_e         E         N Cell  Label  Sex_f  Sex_m\n",
              "0 -6.803838e+16  e1f1  5.583066  1.175189   e1      0      1      0\n",
              "1 -6.666360e+16  e1f1  5.325020  0.962680   e1      0      1      0\n",
              "2 -6.664890e+16  e1f1  3.412439  0.947501   e1      0      1      0\n",
              "3 -6.665580e+16  e1f1  3.761561  2.010046   e1      0      1      0\n",
              "4 -6.717564e+16  e1f1       NaN  1.144831   e1      0      1      0"
            ]
          },
          "metadata": {},
          "execution_count": 213
        }
      ]
    },
    {
      "cell_type": "code",
      "source": [
        "from sklearn.preprocessing import OrdinalEncoder\n",
        "oenc = OrdinalEncoder()\n",
        "data[['Cell','ID_e']] = oenc.fit_transform(data[['Cell','ID_e']]).astype(int)\n",
        "data.head()"
      ],
      "metadata": {
        "colab": {
          "base_uri": "https://localhost:8080/",
          "height": 206
        },
        "id": "2kH1C0DfvoOT",
        "outputId": "627951a5-ec56-452f-a101-8b84e2372a24"
      },
      "execution_count": 214,
      "outputs": [
        {
          "output_type": "execute_result",
          "data": {
            "text/html": [
              "\n",
              "  <div id=\"df-77057444-4f46-488b-b925-e196f67211d5\">\n",
              "    <div class=\"colab-df-container\">\n",
              "      <div>\n",
              "<style scoped>\n",
              "    .dataframe tbody tr th:only-of-type {\n",
              "        vertical-align: middle;\n",
              "    }\n",
              "\n",
              "    .dataframe tbody tr th {\n",
              "        vertical-align: top;\n",
              "    }\n",
              "\n",
              "    .dataframe thead th {\n",
              "        text-align: right;\n",
              "    }\n",
              "</style>\n",
              "<table border=\"1\" class=\"dataframe\">\n",
              "  <thead>\n",
              "    <tr style=\"text-align: right;\">\n",
              "      <th></th>\n",
              "      <th>Date_Hour</th>\n",
              "      <th>ID_e</th>\n",
              "      <th>E</th>\n",
              "      <th>N</th>\n",
              "      <th>Cell</th>\n",
              "      <th>Label</th>\n",
              "      <th>Sex_f</th>\n",
              "      <th>Sex_m</th>\n",
              "    </tr>\n",
              "  </thead>\n",
              "  <tbody>\n",
              "    <tr>\n",
              "      <th>0</th>\n",
              "      <td>-6.803838e+16</td>\n",
              "      <td>18</td>\n",
              "      <td>5.583066</td>\n",
              "      <td>1.175189</td>\n",
              "      <td>0</td>\n",
              "      <td>0</td>\n",
              "      <td>1</td>\n",
              "      <td>0</td>\n",
              "    </tr>\n",
              "    <tr>\n",
              "      <th>1</th>\n",
              "      <td>-6.666360e+16</td>\n",
              "      <td>18</td>\n",
              "      <td>5.325020</td>\n",
              "      <td>0.962680</td>\n",
              "      <td>0</td>\n",
              "      <td>0</td>\n",
              "      <td>1</td>\n",
              "      <td>0</td>\n",
              "    </tr>\n",
              "    <tr>\n",
              "      <th>2</th>\n",
              "      <td>-6.664890e+16</td>\n",
              "      <td>18</td>\n",
              "      <td>3.412439</td>\n",
              "      <td>0.947501</td>\n",
              "      <td>0</td>\n",
              "      <td>0</td>\n",
              "      <td>1</td>\n",
              "      <td>0</td>\n",
              "    </tr>\n",
              "    <tr>\n",
              "      <th>3</th>\n",
              "      <td>-6.665580e+16</td>\n",
              "      <td>18</td>\n",
              "      <td>3.761561</td>\n",
              "      <td>2.010046</td>\n",
              "      <td>0</td>\n",
              "      <td>0</td>\n",
              "      <td>1</td>\n",
              "      <td>0</td>\n",
              "    </tr>\n",
              "    <tr>\n",
              "      <th>4</th>\n",
              "      <td>-6.717564e+16</td>\n",
              "      <td>18</td>\n",
              "      <td>NaN</td>\n",
              "      <td>1.144831</td>\n",
              "      <td>0</td>\n",
              "      <td>0</td>\n",
              "      <td>1</td>\n",
              "      <td>0</td>\n",
              "    </tr>\n",
              "  </tbody>\n",
              "</table>\n",
              "</div>\n",
              "      <button class=\"colab-df-convert\" onclick=\"convertToInteractive('df-77057444-4f46-488b-b925-e196f67211d5')\"\n",
              "              title=\"Convert this dataframe to an interactive table.\"\n",
              "              style=\"display:none;\">\n",
              "        \n",
              "  <svg xmlns=\"http://www.w3.org/2000/svg\" height=\"24px\"viewBox=\"0 0 24 24\"\n",
              "       width=\"24px\">\n",
              "    <path d=\"M0 0h24v24H0V0z\" fill=\"none\"/>\n",
              "    <path d=\"M18.56 5.44l.94 2.06.94-2.06 2.06-.94-2.06-.94-.94-2.06-.94 2.06-2.06.94zm-11 1L8.5 8.5l.94-2.06 2.06-.94-2.06-.94L8.5 2.5l-.94 2.06-2.06.94zm10 10l.94 2.06.94-2.06 2.06-.94-2.06-.94-.94-2.06-.94 2.06-2.06.94z\"/><path d=\"M17.41 7.96l-1.37-1.37c-.4-.4-.92-.59-1.43-.59-.52 0-1.04.2-1.43.59L10.3 9.45l-7.72 7.72c-.78.78-.78 2.05 0 2.83L4 21.41c.39.39.9.59 1.41.59.51 0 1.02-.2 1.41-.59l7.78-7.78 2.81-2.81c.8-.78.8-2.07 0-2.86zM5.41 20L4 18.59l7.72-7.72 1.47 1.35L5.41 20z\"/>\n",
              "  </svg>\n",
              "      </button>\n",
              "      \n",
              "  <style>\n",
              "    .colab-df-container {\n",
              "      display:flex;\n",
              "      flex-wrap:wrap;\n",
              "      gap: 12px;\n",
              "    }\n",
              "\n",
              "    .colab-df-convert {\n",
              "      background-color: #E8F0FE;\n",
              "      border: none;\n",
              "      border-radius: 50%;\n",
              "      cursor: pointer;\n",
              "      display: none;\n",
              "      fill: #1967D2;\n",
              "      height: 32px;\n",
              "      padding: 0 0 0 0;\n",
              "      width: 32px;\n",
              "    }\n",
              "\n",
              "    .colab-df-convert:hover {\n",
              "      background-color: #E2EBFA;\n",
              "      box-shadow: 0px 1px 2px rgba(60, 64, 67, 0.3), 0px 1px 3px 1px rgba(60, 64, 67, 0.15);\n",
              "      fill: #174EA6;\n",
              "    }\n",
              "\n",
              "    [theme=dark] .colab-df-convert {\n",
              "      background-color: #3B4455;\n",
              "      fill: #D2E3FC;\n",
              "    }\n",
              "\n",
              "    [theme=dark] .colab-df-convert:hover {\n",
              "      background-color: #434B5C;\n",
              "      box-shadow: 0px 1px 3px 1px rgba(0, 0, 0, 0.15);\n",
              "      filter: drop-shadow(0px 1px 2px rgba(0, 0, 0, 0.3));\n",
              "      fill: #FFFFFF;\n",
              "    }\n",
              "  </style>\n",
              "\n",
              "      <script>\n",
              "        const buttonEl =\n",
              "          document.querySelector('#df-77057444-4f46-488b-b925-e196f67211d5 button.colab-df-convert');\n",
              "        buttonEl.style.display =\n",
              "          google.colab.kernel.accessAllowed ? 'block' : 'none';\n",
              "\n",
              "        async function convertToInteractive(key) {\n",
              "          const element = document.querySelector('#df-77057444-4f46-488b-b925-e196f67211d5');\n",
              "          const dataTable =\n",
              "            await google.colab.kernel.invokeFunction('convertToInteractive',\n",
              "                                                     [key], {});\n",
              "          if (!dataTable) return;\n",
              "\n",
              "          const docLinkHtml = 'Like what you see? Visit the ' +\n",
              "            '<a target=\"_blank\" href=https://colab.research.google.com/notebooks/data_table.ipynb>data table notebook</a>'\n",
              "            + ' to learn more about interactive tables.';\n",
              "          element.innerHTML = '';\n",
              "          dataTable['output_type'] = 'display_data';\n",
              "          await google.colab.output.renderOutput(dataTable, element);\n",
              "          const docLink = document.createElement('div');\n",
              "          docLink.innerHTML = docLinkHtml;\n",
              "          element.appendChild(docLink);\n",
              "        }\n",
              "      </script>\n",
              "    </div>\n",
              "  </div>\n",
              "  "
            ],
            "text/plain": [
              "      Date_Hour  ID_e         E         N  Cell  Label  Sex_f  Sex_m\n",
              "0 -6.803838e+16    18  5.583066  1.175189     0      0      1      0\n",
              "1 -6.666360e+16    18  5.325020  0.962680     0      0      1      0\n",
              "2 -6.664890e+16    18  3.412439  0.947501     0      0      1      0\n",
              "3 -6.665580e+16    18  3.761561  2.010046     0      0      1      0\n",
              "4 -6.717564e+16    18       NaN  1.144831     0      0      1      0"
            ]
          },
          "metadata": {},
          "execution_count": 214
        }
      ]
    },
    {
      "cell_type": "code",
      "source": [
        "data.dtypes"
      ],
      "metadata": {
        "colab": {
          "base_uri": "https://localhost:8080/"
        },
        "id": "ForyrvoKkWX-",
        "outputId": "55ccf2f0-31c1-4bf8-c572-f3d0d926ca94"
      },
      "execution_count": 215,
      "outputs": [
        {
          "output_type": "execute_result",
          "data": {
            "text/plain": [
              "Date_Hour    float64\n",
              "ID_e           int64\n",
              "E            float64\n",
              "N            float64\n",
              "Cell           int64\n",
              "Label          int64\n",
              "Sex_f          uint8\n",
              "Sex_m          uint8\n",
              "dtype: object"
            ]
          },
          "metadata": {},
          "execution_count": 215
        }
      ]
    },
    {
      "cell_type": "code",
      "source": [
        "import numpy as np\n",
        "x = data.loc[:, data.columns != 'Label'].to_numpy()\n",
        "y = data.loc[:, 'Label'].to_numpy()\n",
        "print(x.shape, y.shape)\n"
      ],
      "metadata": {
        "colab": {
          "base_uri": "https://localhost:8080/"
        },
        "id": "LBMAu5JRkvBr",
        "outputId": "26822155-bc68-4b5c-bf66-c49577725614"
      },
      "execution_count": 216,
      "outputs": [
        {
          "output_type": "stream",
          "name": "stdout",
          "text": [
            "(7189, 7) (7189,)\n"
          ]
        }
      ]
    },
    {
      "cell_type": "code",
      "source": [
        "import matplotlib.pyplot as plt\n",
        "c = ['Date_Hour','ID','E','N','Cell','Sex_f','Sex_m']\n",
        "plt.figure(figsize=(10,10))\n",
        "k=0\n",
        "for i in range(len(c)):\n",
        "  # if i!=1:\n",
        "    plt.subplot(4,4, i+1)\n",
        "    plt.scatter(y,x[:,i])\n",
        "    plt.xticks([0, 1, 2])\n",
        "    plt.title(c[i])"
      ],
      "metadata": {
        "colab": {
          "base_uri": "https://localhost:8080/",
          "height": 324
        },
        "id": "nV7hrZ-pk9Fc",
        "outputId": "49ba5b0a-2b9f-4920-db07-f7e3638c70a5"
      },
      "execution_count": 217,
      "outputs": [
        {
          "output_type": "display_data",
          "data": {
            "image/png": "[encoded data removed]",
            "text/plain": [
              "<Figure size 720x720 with 7 Axes>"
            ]
          },
          "metadata": {
            "needs_background": "light"
          }
        }
      ]
    },
    {
      "cell_type": "code",
      "source": [
        "np.sum(np.isnan(x), 0)"
      ],
      "metadata": {
        "colab": {
          "base_uri": "https://localhost:8080/"
        },
        "id": "1ilan_emppjE",
        "outputId": "51f6fdf0-aa18-4777-f5d2-8f2117ff6c36"
      },
      "execution_count": 218,
      "outputs": [
        {
          "output_type": "execute_result",
          "data": {
            "text/plain": [
              "array([  0,   0, 387, 390,   0,   0,   0])"
            ]
          },
          "metadata": {},
          "execution_count": 218
        }
      ]
    },
    {
      "cell_type": "markdown",
      "metadata": {
        "id": "9oTtaioPxTMM"
      },
      "source": [
        "### Extra 1"
      ]
    },
    {
      "cell_type": "markdown",
      "metadata": {
        "id": "J266YBwpxTMM"
      },
      "source": [
        "The columns 'Date' and 'Hour' could be merged, into a single value (even directly upon reading the CSV file). Explore how to do it either in Pandas or Numpy."
      ]
    },
    {
      "cell_type": "markdown",
      "metadata": {
        "id": "eW3F9h37xTMM"
      },
      "source": [
        "### Extra 2"
      ]
    },
    {
      "cell_type": "markdown",
      "metadata": {
        "id": "z8x5zYy8xTMN"
      },
      "source": [
        "This file indicates the position (East, North) where some lizards were seen. Each lizar has an ID (ID_e) and has been spotted several times. To infeer the position for those samples where there is no available data, instead of using the mean (or any other imputation method) based on the whole training set, try to calculate the mean (or other statistical value) for that specific lizard based on the training data. Note that, depending on how you divide the data, there could be unknown data in the test set for a lizard that was not included in the training data."
      ]
    },
    {
      "cell_type": "code",
      "source": [
        "from sklearn.model_selection import StratifiedKFold\n",
        "\n",
        "x_or = x.copy()\n",
        "skf = StratifiedKFold(n_splits=5)\n",
        "for train_indices, test_indices in skf.split(x,x[:,1]):\n",
        "  lizrard_ids_train = np.unique(x_or[train_indices,1])\n",
        "  k = 0\n",
        "  for id in lizrard_ids_train:\n",
        "    data_per_liz = x[x[:,1]== id ]\n",
        "    east_data_per_liz = x[x[:,1]== id ][:,2]\n",
        "    east_mean_per_liz = (np.nanmean(east_data_per_liz))\n",
        "    north_data_per_liz = x[x[:,1]== id ][:,3]\n",
        "    north_mean_per_liz = (np.nanmean(north_data_per_liz))\n",
        "    data_per_liz[np.isnan(data_per_liz[:,2]), 2] = east_mean_per_liz\n",
        "    data_per_liz[np.isnan(data_per_liz[:,3]), 3] = north_mean_per_liz\n",
        "    if k ==0:\n",
        "      appended = data_per_liz\n",
        "    else:\n",
        "      # break\n",
        "      appended = np.append(appended,data_per_liz,axis = 0)      \n",
        "    k = k+1\n",
        "      # print( id , east_mean_per_liz)"
      ],
      "metadata": {
        "id": "3mLYfvxLO5XT"
      },
      "execution_count": 194,
      "outputs": []
    },
    {
      "cell_type": "code",
      "source": [
        "from sklearn.model_selection import StratifiedKFold\n",
        "\n",
        "x_or = x.copy()\n",
        "\n",
        "lizrard_ids = np.unique(x_or[:,1])\n",
        "k = 0\n",
        "for id in lizrard_ids:\n",
        "    data_per_liz = x[x[:,1]== id ]\n",
        "\n",
        "    east_data_per_liz = x[x[:,1]== id ][:,2]\n",
        "    east_mean_per_liz = (np.nanmean(east_data_per_liz))\n",
        "\n",
        "    north_data_per_liz = x[x[:,1]== id ][:,3]\n",
        "    north_mean_per_liz = (np.nanmean(north_data_per_liz))\n",
        "\n",
        "    data_per_liz[np.isnan(data_per_liz[:,2]), 2] = east_mean_per_liz\n",
        "    data_per_liz[np.isnan(data_per_liz[:,3]), 3] = north_mean_per_liz\n",
        "    x_or[np.isnan(x_or[:,2]), 2] = east_mean_per_liz\n",
        "    x_or[np.isnan(x_or[:,3]), 3] = north_mean_per_liz\n",
        "\n",
        "    # if k ==0:\n",
        "    #   appended = data_per_liz\n",
        "    # else:\n",
        "    #   # break\n",
        "    #   appended = np.append(appended,data_per_liz,axis = 0)      \n",
        "    # k = k+1\n",
        "      # print( id , east_mean_per_liz)"
      ],
      "metadata": {
        "id": "7BoBisAwfb4m"
      },
      "execution_count": 227,
      "outputs": []
    },
    {
      "cell_type": "code",
      "source": [
        "\n",
        "x_or[np.isnan(x_or[:,2]), 2]"
      ],
      "metadata": {
        "colab": {
          "base_uri": "https://localhost:8080/"
        },
        "id": "KIrq4ABbl5lG",
        "outputId": "83118f25-8fd7-46c5-d171-8a9d3975120c"
      },
      "execution_count": 226,
      "outputs": [
        {
          "output_type": "execute_result",
          "data": {
            "text/plain": [
              "array([], dtype=float64)"
            ]
          },
          "metadata": {},
          "execution_count": 226
        }
      ]
    },
    {
      "cell_type": "code",
      "source": [
        ""
      ],
      "metadata": {
        "id": "FNgkA8ThmBG-"
      },
      "execution_count": null,
      "outputs": []
    }
  ],
  "metadata": {
    "kernelspec": {
      "display_name": "Python 3",
      "language": "python",
      "name": "python3"
    },
    "language_info": {
      "codemirror_mode": {
        "name": "ipython",
        "version": 3
      },
      "file_extension": ".py",
      "mimetype": "text/x-python",
      "name": "python",
      "nbconvert_exporter": "python",
      "pygments_lexer": "ipython3",
      "version": "3.7.9"
    },
    "colab": {
      "name": "Pandas and preprocessing in scikit-learn.ipynb",
      "provenance": [],
      "collapsed_sections": [],
      "include_colab_link": true
    }
  },
  "nbformat": 4,
  "nbformat_minor": 0
}